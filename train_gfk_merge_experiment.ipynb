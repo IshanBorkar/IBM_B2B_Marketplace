{
 "cells": [
  {
   "cell_type": "code",
   "execution_count": 1,
   "id": "4e81df35",
   "metadata": {},
   "outputs": [],
   "source": [
    "import pandas as pd\n",
    "from os import listdir\n",
    "from os.path import isfile, join, splitext"
   ]
  },
  {
   "cell_type": "code",
   "execution_count": 2,
   "id": "2b54910c",
   "metadata": {},
   "outputs": [],
   "source": [
    "cols = ['Manufacturer', 'Manufacturer Part Number', 'Marketing Information', 'Category Name', 'User-Manual', 'Manufacturer-Brochure']\n",
    "common_cols = ['Manufacturer', 'Manufacturer Part Number']"
   ]
  },
  {
   "cell_type": "code",
   "execution_count": 3,
   "id": "a3b29279",
   "metadata": {},
   "outputs": [],
   "source": [
    "training_parent = 'D:\\IBM_B2B_C_Onboarding\\Data'\n",
    "file = 'AI-ML_Consolidated_Training_File.xlsx'\n",
    "\n",
    "train_data = pd.read_excel(join(training_parent, file), sheet_name = 'Training Data Consolidated')\n",
    "\n",
    "# train_data.rename(columns = {'Manufacturer ':'Manufacturer'}, inplace = True)"
   ]
  },
  {
   "cell_type": "code",
   "execution_count": 4,
   "id": "e6f23ba0",
   "metadata": {},
   "outputs": [],
   "source": [
    "gfk_parent = 'D:\\IBM_B2B_C_Onboarding\\Data\\GFK_Data'\n",
    "files = ['GFKProducts_000_2022_11_09_17_16_22.xlsx',\n",
    " 'GFKProducts_001_2022_11_09_17_16_22.xlsx',\n",
    " 'GFKProducts_002_2022_11_09_17_16_22.xlsx',\n",
    " 'GFKProducts_003_2022_11_09_17_16_22.xlsx',\n",
    " 'GFKProducts_004_2022_11_09_17_16_22.xlsx',\n",
    " 'GFKProducts_005_2022_11_09_17_16_22.xlsx',\n",
    " 'GFKProducts_006_2022_11_09_17_16_22.xlsx',\n",
    " 'GFKProducts_007_2022_11_09_17_16_22.xlsx',\n",
    " 'GFKProducts_008_2022_11_09_17_16_22.xlsx',\n",
    " 'GFKProducts_009_2022_11_09_17_16_22.xlsx']\n",
    "\n",
    "gfk_data = None\n",
    "for file in files:\n",
    "    df = pd.read_excel(join(gfk_parent, file), usecols=cols)\n",
    "    if gfk_data is None:\n",
    "        gfk_data = df\n",
    "    else:\n",
    "        gfk_data = pd.concat([gfk_data,df], axis=0, ignore_index=True)"
   ]
  },
  {
   "cell_type": "code",
   "execution_count": 5,
   "id": "a93935b1",
   "metadata": {},
   "outputs": [
    {
     "name": "stdout",
     "output_type": "stream",
     "text": [
      "Total duplicate pairs of ['Manufacturer', 'Manufacturer Part Number'] in MIM files: 46\n"
     ]
    }
   ],
   "source": [
    "print(f'Total duplicate pairs of {common_cols} in MIM files: {sum(gfk_data.duplicated(subset=common_cols))}')"
   ]
  },
  {
   "cell_type": "code",
   "execution_count": 6,
   "id": "a6b2d460",
   "metadata": {},
   "outputs": [
    {
     "name": "stdout",
     "output_type": "stream",
     "text": [
      "Total rows present in new training file : 231938\n",
      "Total rows present in all MIM files (with duplicates) : 97886\n",
      "Total rows present in merged file (keeping duplicates in MIM) : 232030\n"
     ]
    }
   ],
   "source": [
    "print(f'Total rows present in new training file : {len(train_data)}')\n",
    "print(f'Total rows present in all MIM files (with duplicates) : {len(gfk_data)}')\n",
    "merged_with_duplicates = pd.merge(train_data, gfk_data,  how='left', on=common_cols)\n",
    "print(f'Total rows present in merged file (keeping duplicates in MIM) : {len(merged_with_duplicates)}')"
   ]
  },
  {
   "cell_type": "code",
   "execution_count": 7,
   "id": "a18f1ab3",
   "metadata": {},
   "outputs": [
    {
     "name": "stdout",
     "output_type": "stream",
     "text": [
      "Total rows present in new training file : 231938\n",
      "Total rows present in all MIM files (after removing duplicates) : 97840\n",
      "Total rows present in merged df (after removing duplicates in MIM) : 231938\n"
     ]
    }
   ],
   "source": [
    "gfk_data_dedeplicated = gfk_data.drop_duplicates(subset=common_cols)\n",
    "\n",
    "print(f'Total rows present in new training file : {len(train_data)}')\n",
    "print(f'Total rows present in all MIM files (after removing duplicates) : {len(gfk_data_dedeplicated)}')\n",
    "merged_without_duplicates = pd.merge(train_data, gfk_data_dedeplicated,  how='left', on=common_cols)\n",
    "print(f'Total rows present in merged df (after removing duplicates in MIM) : {len(merged_without_duplicates)}')"
   ]
  },
  {
   "cell_type": "code",
   "execution_count": null,
   "id": "da82dc44",
   "metadata": {},
   "outputs": [],
   "source": []
  }
 ],
 "metadata": {
  "kernelspec": {
   "display_name": "Python 3",
   "language": "python",
   "name": "python3"
  },
  "language_info": {
   "codemirror_mode": {
    "name": "ipython",
    "version": 3
   },
   "file_extension": ".py",
   "mimetype": "text/x-python",
   "name": "python",
   "nbconvert_exporter": "python",
   "pygments_lexer": "ipython3",
   "version": "3.7.0"
  }
 },
 "nbformat": 4,
 "nbformat_minor": 5
}
