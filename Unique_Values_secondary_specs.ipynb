{
 "cells": [
  {
   "cell_type": "markdown",
   "id": "952dd4cf-e10d-4a45-87b6-3f90a0a9a683",
   "metadata": {},
   "source": [
    "## 1) Import the libraries"
   ]
  },
  {
   "cell_type": "code",
   "execution_count": 2,
   "id": "5be7010d-75af-4ac4-b0b2-04441c5e9cde",
   "metadata": {
    "id": "5be7010d-75af-4ac4-b0b2-04441c5e9cde"
   },
   "outputs": [],
   "source": [
    "import pandas as pd\n",
    "import numpy as np\n",
    "import seaborn as sns\n",
    "import os, sys, datetime, re , glob\n",
    "from os import listdir\n",
    "import math\n",
    "import warnings\n",
    "warnings.filterwarnings('ignore')\n",
    "import matplotlib.pyplot as plt\n",
    "%matplotlib inline\n",
    "import seaborn as sns"
   ]
  },
  {
   "cell_type": "markdown",
   "id": "ba6894ab-effe-4f6b-92c6-a84088769deb",
   "metadata": {},
   "source": [
    "## 2) Include the directory where POIIM catalog files are present"
   ]
  },
  {
   "cell_type": "code",
   "execution_count": 3,
   "id": "00652cc6-6bab-48fa-9007-3558f4f32fd1",
   "metadata": {
    "id": "00652cc6-6bab-48fa-9007-3558f4f32fd1"
   },
   "outputs": [],
   "source": [
    "data_path =\"D:\\IBM_B2B_C_Onboarding\\Competitive_Item_Verification_(CIV)\\POOIM_Export_with_Secondary_Specs\"\n",
    "filenames = os.listdir(data_path)\n",
    "# print(filenames)"
   ]
  },
  {
   "cell_type": "code",
   "execution_count": 4,
   "id": "7e2b17c7-35d0-4461-a962-9810b7664c49",
   "metadata": {},
   "outputs": [
    {
     "name": "stdout",
     "output_type": "stream",
     "text": [
      "Requirement already satisfied: openpyxl in d:\\anaconda\\envs\\civ\\lib\\site-packages (3.1.1)\n",
      "Requirement already satisfied: et-xmlfile in d:\\anaconda\\envs\\civ\\lib\\site-packages (from openpyxl) (1.1.0)\n"
     ]
    }
   ],
   "source": [
    "!pip install openpyxl"
   ]
  },
  {
   "cell_type": "markdown",
   "id": "98a92b37-a981-4dfa-a0ef-5f380c08317d",
   "metadata": {},
   "source": [
    "## 3) Load all the POIIM catalog excel files"
   ]
  },
  {
   "cell_type": "code",
   "execution_count": 5,
   "id": "3fffae4a-3c07-4687-b4cb-ba8619731a50",
   "metadata": {
    "colab": {
     "base_uri": "https://localhost:8080/"
    },
    "id": "3fffae4a-3c07-4687-b4cb-ba8619731a50",
    "outputId": "422db7ba-adfc-4d9c-f468-44378f5c7c7e"
   },
   "outputs": [],
   "source": [
    "df_POOIM_Export1 = pd.read_excel(data_path +\"/\" +\"Export_Explorer_POOIM Catalog_07-02-2023_07-43-32.xlsx\", skiprows=[1], sheet_name=\"CATALOG-POOIM Catalog\")\n",
    "df_POOIM_Export2 = pd.read_excel(data_path +\"/\" +\"Export_Explorer_POOIM Catalog_07-02-2023_07-44-54.xlsx\", skiprows=[1], sheet_name=\"CATALOG-POOIM Catalog\")\n",
    "df_POOIM_Export3 = pd.read_excel(data_path +\"/\" +\"Export_Explorer_POOIM Catalog_07-02-2023_07-46-28.xlsx\", skiprows=[1], sheet_name=\"CATALOG-POOIM Catalog\")\n",
    "df_POOIM_Export4 = pd.read_excel(data_path +\"/\" +\"Export_Explorer_POOIM Catalog_07-02-2023_07-47-28.xlsx\", skiprows=[1], sheet_name=\"CATALOG-POOIM Catalog\")\n",
    "df_POOIM_Export5 = pd.read_excel(data_path +\"/\" +\"Export_Explorer_POOIM Catalog_07-02-2023_07-48-56.xlsx\", skiprows=[1], sheet_name=\"CATALOG-POOIM Catalog\")\n",
    "df_POOIM_Export6 = pd.read_excel(data_path +\"/\" +\"Export_Explorer_POOIM Catalog_07-02-2023_07-50-54.xlsx\", skiprows=[1], sheet_name=\"CATALOG-POOIM Catalog\")\n",
    "df_POOIM_Export7 = pd.read_excel(data_path +\"/\" +\"Export_Explorer_POOIM Catalog_07-02-2023_07-53-44.xlsx\", skiprows=[1], sheet_name=\"CATALOG-POOIM Catalog\")\n",
    "df_POOIM_Export8 = pd.read_excel(data_path +\"/\" +\"Export_Explorer_POOIM Catalog_07-02-2023_07-55-12.xlsx\", skiprows=[1], sheet_name=\"CATALOG-POOIM Catalog\")\n",
    "df_POOIM_Export9 = pd.read_excel(data_path +\"/\" +\"Export_Explorer_POOIM Catalog_07-02-2023_07-55-59.xlsx\", skiprows=[1], sheet_name=\"CATALOG-POOIM Catalog\")\n",
    "df_POOIM_Export10 = pd.read_excel(data_path +\"/\" +\"Export_Explorer_POOIM Catalog_07-02-2023_07-56-47.xlsx\", skiprows=[1], sheet_name=\"CATALOG-POOIM Catalog\")\n",
    "df_POOIM_Export11 = pd.read_excel(data_path +\"/\" +\"Export_Explorer_POOIM Catalog_07-02-2023_07-58-49.xlsx\", skiprows=[1], sheet_name=\"CATALOG-POOIM Catalog\")\n",
    "df_POOIM_Export12 = pd.read_excel(data_path +\"/\" +\"Export_Explorer_POOIM Catalog_07-02-2023_08-00-22.xlsx\", skiprows=[1], sheet_name=\"CATALOG-POOIM Catalog\")\n",
    "df_POOIM_Export13 = pd.read_excel(data_path +\"/\" +\"Export_Explorer_POOIM Catalog_07-02-2023_08-01-34.xlsx\", skiprows=[1], sheet_name=\"CATALOG-POOIM Catalog\")\n",
    "df_POOIM_Export14 = pd.read_excel(data_path +\"/\" +\"Export_Explorer_POOIM Catalog_07-02-2023_08-04-02.xlsx\", skiprows=[1], sheet_name=\"CATALOG-POOIM Catalog\")\n",
    "df_POOIM_Export15 = pd.read_excel(data_path +\"/\" +\"Export_Explorer_POOIM Catalog_07-02-2023_08-05-28.xlsx\", skiprows=[1], sheet_name=\"CATALOG-POOIM Catalog\")\n",
    "df_POOIM_Export16 = pd.read_excel(data_path +\"/\" +\"Export_Explorer_POOIM Catalog_07-02-2023_08-06-54.xlsx\", skiprows=[1], sheet_name=\"CATALOG-POOIM Catalog\")\n",
    "df_POOIM_Export17 = pd.read_excel(data_path +\"/\" +\"Export_Explorer_POOIM Catalog_07-02-2023_08-08-16.xlsx\", skiprows=[1], sheet_name=\"CATALOG-POOIM Catalog\")\n",
    "df_POOIM_Export18 = pd.read_excel(data_path +\"/\" +\"Export_Explorer_POOIM Catalog_07-02-2023_08-11-08.xlsx\", skiprows=[1], sheet_name=\"CATALOG-POOIM Catalog\")\n",
    "df_POOIM_Export19 = pd.read_excel(data_path +\"/\" +\"Export_Explorer_POOIM Catalog_07-02-2023_08-12-27.xlsx\", skiprows=[1], sheet_name=\"CATALOG-POOIM Catalog\")\n",
    "df_POOIM_Export20 = pd.read_excel(data_path +\"/\" +\"Export_Explorer_POOIM Catalog_07-02-2023_08-13-56.xlsx\", skiprows=[1], sheet_name=\"CATALOG-POOIM Catalog\")\n",
    "df_POOIM_Export21 = pd.read_excel(data_path +\"/\" +\"Export_Explorer_POOIM Catalog_07-02-2023_08-15-50.xlsx\", skiprows=[1], sheet_name=\"CATALOG-POOIM Catalog\")\n",
    "df_POOIM_Export22 = pd.read_excel(data_path +\"/\" +\"Export_Explorer_POOIM Catalog_07-02-2023_08-19-10.xlsx\", skiprows=[1], sheet_name=\"CATALOG-POOIM Catalog\")\n",
    "df_POOIM_Export23 = pd.read_excel(data_path +\"/\" +\"Export_Explorer_POOIM Catalog_07-02-2023_08-20-30.xlsx\", skiprows=[1], sheet_name=\"CATALOG-POOIM Catalog\")\n",
    "df_POOIM_Export24 = pd.read_excel(data_path +\"/\" +\"Export_Explorer_POOIM Catalog_07-02-2023_08-21-50.xlsx\", skiprows=[1], sheet_name=\"CATALOG-POOIM Catalog\")\n",
    "df_POOIM_Export25 = pd.read_excel(data_path +\"/\" +\"Export_Explorer_POOIM Catalog_07-02-2023_08-23-06.xlsx\", skiprows=[1], sheet_name=\"CATALOG-POOIM Catalog\")\n",
    "df_POOIM_Export26 = pd.read_excel(data_path +\"/\" +\"Export_Explorer_POOIM Catalog_07-02-2023_08-24-36.xlsx\", skiprows=[1], sheet_name=\"CATALOG-POOIM Catalog\")\n",
    "df_POOIM_Export27 = pd.read_excel(data_path +\"/\" +\"Export_Explorer_POOIM Catalog_07-02-2023_08-26-13.xlsx\", skiprows=[1], sheet_name=\"CATALOG-POOIM Catalog\")"
   ]
  },
  {
   "cell_type": "markdown",
   "id": "efc961d0-9ae9-4bdf-bce1-9b382b6549ec",
   "metadata": {},
   "source": [
    "## 4) Concatenate all the dataframes"
   ]
  },
  {
   "cell_type": "code",
   "execution_count": 6,
   "id": "536e3c37-9f9e-4e53-a60c-426512eaaab6",
   "metadata": {
    "id": "536e3c37-9f9e-4e53-a60c-426512eaaab6"
   },
   "outputs": [],
   "source": [
    "df_POOIM_Export = pd.concat([df_POOIM_Export1,df_POOIM_Export2,df_POOIM_Export3,df_POOIM_Export4,df_POOIM_Export5,\\\n",
    "                            df_POOIM_Export6,df_POOIM_Export7,df_POOIM_Export8,df_POOIM_Export9,df_POOIM_Export10,df_POOIM_Export11,\\\n",
    "                            df_POOIM_Export12,df_POOIM_Export13,df_POOIM_Export14,df_POOIM_Export15,df_POOIM_Export16,\\\n",
    "                            df_POOIM_Export17,df_POOIM_Export18,df_POOIM_Export19,df_POOIM_Export20,df_POOIM_Export21,df_POOIM_Export22,\\\n",
    "                            df_POOIM_Export23,df_POOIM_Export24,df_POOIM_Export25,df_POOIM_Export26,df_POOIM_Export27])\n",
    "# df_POOIM_Export.head()"
   ]
  },
  {
   "cell_type": "code",
   "execution_count": 7,
   "id": "adf7e931-3dd2-4307-be9f-be93f8c6945e",
   "metadata": {
    "colab": {
     "base_uri": "https://localhost:8080/"
    },
    "id": "adf7e931-3dd2-4307-be9f-be93f8c6945e",
    "outputId": "502532c3-84d2-4bb3-a4c2-d415ff1636ea"
   },
   "outputs": [
    {
     "name": "stdout",
     "output_type": "stream",
     "text": [
      "(11593, 2345)\n",
      "27185585\n"
     ]
    }
   ],
   "source": [
    "print(df_POOIM_Export.shape)\n",
    "print(df_POOIM_Export.size)"
   ]
  },
  {
   "cell_type": "code",
   "execution_count": 8,
   "id": "3cfa2897-f658-4b17-81c9-5eac2f53a22b",
   "metadata": {
    "colab": {
     "base_uri": "https://localhost:8080/"
    },
    "id": "3cfa2897-f658-4b17-81c9-5eac2f53a22b",
    "outputId": "3f05c7f4-3a1a-49d6-c2e5-5922f67acfc2"
   },
   "outputs": [
    {
     "data": {
      "text/plain": [
       "11593"
      ]
     },
     "execution_count": 8,
     "metadata": {},
     "output_type": "execute_result"
    }
   ],
   "source": [
    "df_POOIM_Export['POOIM Primary Spec/Category'].count()"
   ]
  },
  {
   "cell_type": "markdown",
   "id": "6b1ea4ec-d242-4cf8-8d94-710efc9678b4",
   "metadata": {},
   "source": [
    "## 5) Find the UNSPSCs present in the dataframe"
   ]
  },
  {
   "cell_type": "code",
   "execution_count": 9,
   "id": "4688f580-7715-4abb-8bde-120543ecb3ed",
   "metadata": {
    "colab": {
     "base_uri": "https://localhost:8080/"
    },
    "id": "4688f580-7715-4abb-8bde-120543ecb3ed",
    "outputId": "5c928432-7b9a-4aca-b961-9f43f12fac97"
   },
   "outputs": [
    {
     "data": {
      "text/plain": [
       "array([26111710, 39121006, 26111701, 32101601, 43201402, 32101602,\n",
       "       43201407, 32101622, 43201803, 43202005, 43191501, 43201830,\n",
       "       43211600, 43211503, 43191609, 43202206, 43211507, 43211506,\n",
       "       43211708, 43211713, 43211902, 45111902, 43211802, 43211903,\n",
       "       52161505, 44111911, 43211904, 43231512, 43212001, 43211602,\n",
       "       45111602, 43212110, 43212112, 43212104, 44101503, 44101807,\n",
       "       44103103, 44103105, 45111609, 81111805, 45111614, 45121517,\n",
       "       45111603, 46171502, 53121706, 53121705, 52161518, 43211619,\n",
       "       44111518, 53121603, 43191629, 44122009, 14111514, 41111604,\n",
       "       43211706, 43211701, 43211724, 43211612, 43211712, 43211804,\n",
       "       44121615, 44122106, 44121618, 45121520, 45121516, 45121603],\n",
       "      dtype=int64)"
      ]
     },
     "execution_count": 9,
     "metadata": {},
     "output_type": "execute_result"
    }
   ],
   "source": [
    "df_POOIM_Export['POOIM Primary Spec/Category'].unique()"
   ]
  },
  {
   "cell_type": "markdown",
   "id": "70dc9f70-93e1-4f6b-938f-e8cc943c9d6e",
   "metadata": {},
   "source": [
    "## 6) Find the value count for each UNSPSCs"
   ]
  },
  {
   "cell_type": "code",
   "execution_count": 10,
   "id": "3a8a1292-904a-4a93-a666-e90ab326efd2",
   "metadata": {
    "colab": {
     "base_uri": "https://localhost:8080/"
    },
    "id": "3a8a1292-904a-4a93-a666-e90ab326efd2",
    "outputId": "53a11b5f-68ed-4e43-f2b8-370f651211d0"
   },
   "outputs": [
    {
     "data": {
      "text/plain": [
       "43211902    3844\n",
       "43211503    1002\n",
       "43211708     501\n",
       "14111514     500\n",
       "44103103     500\n",
       "            ... \n",
       "52161518       1\n",
       "43211904       1\n",
       "43231512       1\n",
       "44101503       1\n",
       "44122009       1\n",
       "Name: POOIM Primary Spec/Category, Length: 66, dtype: int64"
      ]
     },
     "execution_count": 10,
     "metadata": {},
     "output_type": "execute_result"
    }
   ],
   "source": [
    "df_POOIM_Export['POOIM Primary Spec/Category'].value_counts()"
   ]
  },
  {
   "cell_type": "code",
   "execution_count": 11,
   "id": "f4cb5ca7-3587-420c-b569-65f3e93d02e9",
   "metadata": {
    "colab": {
     "base_uri": "https://localhost:8080/"
    },
    "id": "f4cb5ca7-3587-420c-b569-65f3e93d02e9",
    "outputId": "6ea1e3e2-706f-48b6-85aa-1587680694b5"
   },
   "outputs": [
    {
     "data": {
      "text/plain": [
       "43211902    3844\n",
       "43211503    1002\n",
       "43211708     501\n",
       "14111514     500\n",
       "44103103     500\n",
       "44103105     500\n",
       "43211507     493\n",
       "43212110     489\n",
       "32101601     484\n",
       "43211706     469\n",
       "43201803     456\n",
       "32101622     364\n",
       "53121706     328\n",
       "43211903     250\n",
       "44121615     217\n",
       "26111710     187\n",
       "53121705     168\n",
       "44121618     140\n",
       "45111609     126\n",
       "46171502     114\n",
       "52161505      90\n",
       "45121520      65\n",
       "43202206      50\n",
       "43201830      40\n",
       "41111604      37\n",
       "45111902      22\n",
       "44122106      18\n",
       "43211506      12\n",
       "43211701      10\n",
       "32101602      10\n",
       "43191501      10\n",
       "45121516      10\n",
       "53121603       9\n",
       "43211802       7\n",
       "43202005       6\n",
       "43211619       5\n",
       "43212104       5\n",
       "43212001       5\n",
       "43212112       5\n",
       "26111701       4\n",
       "44101807       3\n",
       "45111614       3\n",
       "43201402       3\n",
       "43191629       3\n",
       "43211612       2\n",
       "43211724       2\n",
       "43211713       2\n",
       "44111911       2\n",
       "45121603       2\n",
       "45111603       2\n",
       "45121517       2\n",
       "Name: POOIM Primary Spec/Category, dtype: int64"
      ]
     },
     "execution_count": 11,
     "metadata": {},
     "output_type": "execute_result"
    }
   ],
   "source": [
    "df_POOIM_Export['POOIM Primary Spec/Category'].value_counts().loc[lambda x : x>1] "
   ]
  },
  {
   "cell_type": "code",
   "execution_count": 12,
   "id": "7e6ed7f0-f614-4104-bf2f-c1b5b72340f7",
   "metadata": {
    "colab": {
     "base_uri": "https://localhost:8080/"
    },
    "id": "7e6ed7f0-f614-4104-bf2f-c1b5b72340f7",
    "outputId": "214c79ae-03f8-4f87-8f46-b48f547e2977"
   },
   "outputs": [
    {
     "data": {
      "text/plain": [
       "43211712    1\n",
       "81111805    1\n",
       "43201407    1\n",
       "43211600    1\n",
       "43191609    1\n",
       "43211804    1\n",
       "44111518    1\n",
       "43211602    1\n",
       "39121006    1\n",
       "45111602    1\n",
       "52161518    1\n",
       "43211904    1\n",
       "43231512    1\n",
       "44101503    1\n",
       "44122009    1\n",
       "Name: POOIM Primary Spec/Category, dtype: int64"
      ]
     },
     "execution_count": 12,
     "metadata": {},
     "output_type": "execute_result"
    }
   ],
   "source": [
    "df_POOIM_Export['POOIM Primary Spec/Category'].value_counts().loc[lambda x : x==1] "
   ]
  },
  {
   "cell_type": "markdown",
   "id": "fecf30e8-ccca-4758-89fc-ad0bdf95f0a7",
   "metadata": {},
   "source": [
    "## 7) Print the values of UNSPSCs in a list"
   ]
  },
  {
   "cell_type": "code",
   "execution_count": 13,
   "id": "b7d5f294-3b81-4939-876a-89e6b36d4dfd",
   "metadata": {
    "colab": {
     "base_uri": "https://localhost:8080/"
    },
    "id": "b7d5f294-3b81-4939-876a-89e6b36d4dfd",
    "outputId": "9dc6dd1b-4761-4d90-bce4-a88ae5709a0e"
   },
   "outputs": [
    {
     "name": "stdout",
     "output_type": "stream",
     "text": [
      "[26111710, 39121006, 26111701, 32101601, 43201402, 32101602, 43201407, 32101622, 43201803, 43202005, 43191501, 43201830, 43211600, 43211503, 43191609, 43202206, 43211507, 43211506, 43211708, 43211713, 43211902, 45111902, 43211802, 43211903, 52161505, 44111911, 43211904, 43231512, 43212001, 43211602, 45111602, 43212110, 43212112, 43212104, 44101503, 44101807, 44103103, 44103105, 45111609, 81111805, 45111614, 45121517, 45111603, 46171502, 53121706, 53121705, 52161518, 43211619, 44111518, 53121603, 43191629, 44122009, 14111514, 41111604, 43211706, 43211701, 43211724, 43211612, 43211712, 43211804, 44121615, 44122106, 44121618, 45121520, 45121516, 45121603]\n"
     ]
    }
   ],
   "source": [
    "print(df_POOIM_Export['POOIM Primary Spec/Category'].unique().tolist())"
   ]
  },
  {
   "cell_type": "markdown",
   "id": "1cf1a925-0196-4056-8c00-79485534504e",
   "metadata": {
    "id": "1cf1a925-0196-4056-8c00-79485534504e"
   },
   "source": [
    "## 8) Checking the unique values of the secondary specs considering all the UNSPSCs"
   ]
  },
  {
   "cell_type": "code",
   "execution_count": 14,
   "id": "ece8fdd5-7613-44f8-8898-b7b3bdfb6247",
   "metadata": {
    "colab": {
     "base_uri": "https://localhost:8080/"
    },
    "id": "ece8fdd5-7613-44f8-8898-b7b3bdfb6247",
    "outputId": "c7328a33-a760-4c15-9ca0-5522b3a45148"
   },
   "outputs": [
    {
     "data": {
      "text/plain": [
       "array([nan, 'Super AMOLED'], dtype=object)"
      ]
     },
     "execution_count": 14,
     "metadata": {},
     "output_type": "execute_result"
    }
   ],
   "source": [
    "df_POOIM_Export[\"Mobile phones Secondary Spec/Screen Type\"].unique()"
   ]
  },
  {
   "cell_type": "markdown",
   "id": "ef267dd6-1275-4465-9cf4-6ad85e9c2fcb",
   "metadata": {},
   "source": [
    "### Find the length of specific secondary specs"
   ]
  },
  {
   "cell_type": "code",
   "execution_count": 15,
   "id": "ad65b63d-6349-4f0c-a30d-9c20e2a50192",
   "metadata": {
    "colab": {
     "base_uri": "https://localhost:8080/"
    },
    "id": "ad65b63d-6349-4f0c-a30d-9c20e2a50192",
    "outputId": "0dfa7570-302b-49db-8697-0a73fc1b8541"
   },
   "outputs": [
    {
     "data": {
      "text/plain": [
       "2"
      ]
     },
     "execution_count": 15,
     "metadata": {},
     "output_type": "execute_result"
    }
   ],
   "source": [
    "n = len(pd.unique(df_POOIM_Export[\"Mobile phones Secondary Spec/Screen Type\"]))\n",
    "n"
   ]
  },
  {
   "cell_type": "code",
   "execution_count": 16,
   "id": "5000bf30-5fe5-479f-8a61-af457d20e86e",
   "metadata": {
    "colab": {
     "base_uri": "https://localhost:8080/"
    },
    "id": "5000bf30-5fe5-479f-8a61-af457d20e86e",
    "outputId": "75d76620-bb33-410a-ae87-74e9225e0ed7"
   },
   "outputs": [
    {
     "name": "stdout",
     "output_type": "stream",
     "text": [
      "5\n",
      "[nan ' Notebook' ' Monitor' ' Computer' ' Smartphone']\n",
      "Product specific battery packs Secondary Spec/Battery Rechargeable                   0\n",
      "Product specific battery packs Secondary Spec/Battery Chemistry                      0\n",
      "Product specific battery packs Secondary Spec/Number of Cells                        0\n",
      "Product specific battery packs Secondary Spec/Maximum Battery Recharge Life Cycle    0\n",
      "Product specific battery packs Secondary Spec/Rugged                                 0\n",
      "                                                                                    ..\n",
      "Scissors Secondary Spec/Shipping Weight _Approximate_/UOM                            0\n",
      "Scissors Secondary Spec/Recycled Content#0                                           0\n",
      "Web cameras Secondary Spec/Color#1                                                   1\n",
      "Web cameras Secondary Spec/Device Supported#1                                        4\n",
      "Web cameras Secondary Spec/Device Supported#2                                        2\n",
      "Length: 2079, dtype: int64\n"
     ]
    }
   ],
   "source": [
    "print(len(pd.unique(df_POOIM_Export[\"Web cameras Secondary Spec/Device Supported#1\"])))\n",
    "print(df_POOIM_Export[\"Web cameras Secondary Spec/Device Supported#1\"].unique())\n",
    "# Filter only the secondary specs\n",
    "df_POOIM_Export1 = df_POOIM_Export.filter(regex='Secondary Spec*')\n",
    "n = df_POOIM_Export1.nunique(axis=0)\n",
    "print(n)"
   ]
  },
  {
   "cell_type": "code",
   "execution_count": 17,
   "id": "ae1ac4fe-40f4-4cbf-87b6-0aaa9dbd2408",
   "metadata": {
    "colab": {
     "base_uri": "https://localhost:8080/"
    },
    "id": "ae1ac4fe-40f4-4cbf-87b6-0aaa9dbd2408",
    "outputId": "40b264b1-aec4-45ab-85c5-4639b9645008"
   },
   "outputs": [
    {
     "name": "stdout",
     "output_type": "stream",
     "text": [
      "[nan]\n",
      "Product specific battery packs Secondary Spec/Battery Rechargeable                            0\n",
      "Product specific battery packs Secondary Spec/Battery Chemistry                               0\n",
      "Product specific battery packs Secondary Spec/Number of Cells                                 0\n",
      "Product specific battery packs Secondary Spec/Maximum Battery Recharge Life Cycle             0\n",
      "Product specific battery packs Secondary Spec/Rugged                                          0\n",
      "Product specific battery packs Secondary Spec/Compatible to OEM Part Number                   0\n",
      "Product specific battery packs Secondary Spec/Compatibility                                   0\n",
      "Product specific battery packs Secondary Spec/Post-consumer-waste%                            0\n",
      "Product specific battery packs Secondary Spec/Energy Star                                     0\n",
      "Product specific battery packs Secondary Spec/Application or Usage#0                          0\n",
      "Product specific battery packs Secondary Spec/Battery Size#0                                  0\n",
      "Product specific battery packs Secondary Spec/Battery Capacity#0/Display Value                0\n",
      "Product specific battery packs Secondary Spec/Battery Capacity#0/Absolute Value               0\n",
      "Product specific battery packs Secondary Spec/Battery Capacity#0/UOM                          0\n",
      "Product specific battery packs Secondary Spec/Battery Energy/Display Value                    0\n",
      "Product specific battery packs Secondary Spec/Battery Energy/Absolute Value                   0\n",
      "Product specific battery packs Secondary Spec/Battery Energy/UOM                              0\n",
      "Product specific battery packs Secondary Spec/Output Voltage#0/Display Value                  0\n",
      "Product specific battery packs Secondary Spec/Output Voltage#0/Absolute Value                 0\n",
      "Product specific battery packs Secondary Spec/Output Voltage#0/UOM                            0\n",
      "Product specific battery packs Secondary Spec/Maximum Battery Run Time/Display Value          0\n",
      "Product specific battery packs Secondary Spec/Maximum Battery Run Time/Absolute Value         0\n",
      "Product specific battery packs Secondary Spec/Maximum Battery Run Time/UOM                    0\n",
      "Product specific battery packs Secondary Spec/Maximum Battery Recharge Time/Display Value     0\n",
      "Product specific battery packs Secondary Spec/Maximum Battery Recharge Time/Absolute Value    0\n",
      "Product specific battery packs Secondary Spec/Maximum Battery Recharge Time/UOM               0\n",
      "Product specific battery packs Secondary Spec/Height/Display Value                            0\n",
      "Product specific battery packs Secondary Spec/Height/Absolute Value                           0\n",
      "Product specific battery packs Secondary Spec/Height/UOM                                      0\n",
      "Product specific battery packs Secondary Spec/Width/Display Value                             0\n",
      "Product specific battery packs Secondary Spec/Width/Absolute Value                            0\n",
      "Product specific battery packs Secondary Spec/Width/UOM                                       0\n",
      "Product specific battery packs Secondary Spec/Depth/Display Value                             0\n",
      "Product specific battery packs Secondary Spec/Depth/Absolute Value                            0\n",
      "Product specific battery packs Secondary Spec/Depth/UOM                                       0\n",
      "Product specific battery packs Secondary Spec/Weight _Approximate_#0/Display Value            0\n",
      "Product specific battery packs Secondary Spec/Weight _Approximate_#0/Absolute Value           0\n",
      "Product specific battery packs Secondary Spec/Weight _Approximate_#0/UOM                      0\n",
      "dtype: int64\n"
     ]
    }
   ],
   "source": [
    "# Filter the values for Product specific battery packs\n",
    "df_POOIM_Export1 = df_POOIM_Export.filter(regex='Product specific battery packs*')\n",
    "# print(df_POOIM_Export1.columns)\n",
    "print(df_POOIM_Export1['Product specific battery packs Secondary Spec/Compatible to OEM Part Number'].unique())\n",
    "n = df_POOIM_Export1.nunique(axis=0)\n",
    "print(n)"
   ]
  },
  {
   "cell_type": "code",
   "execution_count": 18,
   "id": "879f70ac-df23-49fc-ae58-ef7abfa3113b",
   "metadata": {
    "id": "879f70ac-df23-49fc-ae58-ef7abfa3113b"
   },
   "outputs": [],
   "source": [
    "# df_POOIM_Export.values.tolist()"
   ]
  },
  {
   "cell_type": "code",
   "execution_count": 19,
   "id": "e533253e-ce65-49f5-99d2-fe004466a048",
   "metadata": {
    "colab": {
     "base_uri": "https://localhost:8080/"
    },
    "id": "e533253e-ce65-49f5-99d2-fe004466a048",
    "outputId": "25f36add-b501-4828-dbec-e35b5b9ce561"
   },
   "outputs": [
    {
     "name": "stdout",
     "output_type": "stream",
     "text": [
      "[nan ' Notebook' ' Monitor' ' Computer' ' Smartphone']\n",
      "Product specific battery packs Secondary Spec/Battery Rechargeable                   0\n",
      "Product specific battery packs Secondary Spec/Battery Chemistry                      0\n",
      "Product specific battery packs Secondary Spec/Number of Cells                        0\n",
      "Product specific battery packs Secondary Spec/Maximum Battery Recharge Life Cycle    0\n",
      "Product specific battery packs Secondary Spec/Rugged                                 0\n",
      "                                                                                    ..\n",
      "Scissors Secondary Spec/Shipping Weight _Approximate_/UOM                            0\n",
      "Scissors Secondary Spec/Recycled Content#0                                           0\n",
      "Web cameras Secondary Spec/Color#1                                                   1\n",
      "Web cameras Secondary Spec/Device Supported#1                                        4\n",
      "Web cameras Secondary Spec/Device Supported#2                                        2\n",
      "Length: 2079, dtype: int64\n"
     ]
    }
   ],
   "source": [
    "## Filter only the secondary spec columns from the POOIM catalog file\n",
    "Secondary_spec_col=[]\n",
    "for col in df_POOIM_Export.columns:\n",
    "    if 'Secondary Spec' in col:\n",
    "        Secondary_spec_col.append(col)\n",
    "        #display(df_POOIM_Export)\n",
    "# print(\"All the secondary Spec columns: \", Secondary_spec_col)\n",
    "\n",
    "df_POOIM_Export1 = df_POOIM_Export.filter(regex='Secondary*')\n",
    "# print(df_POOIM_Export1.columns)\n",
    "print(df_POOIM_Export1[\"Web cameras Secondary Spec/Device Supported#1\"].unique())\n",
    "n = df_POOIM_Export1.nunique(axis=0)\n",
    "print(n)\n"
   ]
  },
  {
   "cell_type": "code",
   "execution_count": 20,
   "id": "ceef3bec-1f8e-45bd-92dc-4138a88355db",
   "metadata": {},
   "outputs": [
    {
     "name": "stdout",
     "output_type": "stream",
     "text": [
      "Product specific battery packs Secondary Spec/Battery Rechargeable                                                               [nan]\n",
      "Product specific battery packs Secondary Spec/Battery Chemistry                                                                  [nan]\n",
      "Product specific battery packs Secondary Spec/Number of Cells                                                                    [nan]\n",
      "Product specific battery packs Secondary Spec/Maximum Battery Recharge Life Cycle                                                [nan]\n",
      "Product specific battery packs Secondary Spec/Rugged                                                                             [nan]\n",
      "                                                                                                           ...                        \n",
      "Scissors Secondary Spec/Shipping Weight _Approximate_/UOM                                                                        [nan]\n",
      "Scissors Secondary Spec/Recycled Content#0                                                                                       [nan]\n",
      "Web cameras Secondary Spec/Color#1                                                                                  [nan,  Slate Gray]\n",
      "Web cameras Secondary Spec/Device Supported#1                                        [nan,  Notebook,  Monitor,  Computer,  Smartph...\n",
      "Web cameras Secondary Spec/Device Supported#2                                                                    [nan,  Smart TV,  TV]\n",
      "Length: 2079, dtype: object\n"
     ]
    }
   ],
   "source": [
    "## Find the unique values for every secondary specs\n",
    "print(df_POOIM_Export1.T.apply(lambda x: x.unique(), axis=1))"
   ]
  },
  {
   "cell_type": "markdown",
   "id": "95740330-adec-43b8-a31e-6740801ba65a",
   "metadata": {
    "id": "95740330-adec-43b8-a31e-6740801ba65a"
   },
   "source": [
    "## 9) Count of all the secondary specs present in each unique UNSPSC Correct Category"
   ]
  },
  {
   "cell_type": "markdown",
   "id": "e9128b8a-b210-4217-85cc-c5a9a0ea762f",
   "metadata": {
    "id": "e9128b8a-b210-4217-85cc-c5a9a0ea762f"
   },
   "source": [
    "## 1) 43211902"
   ]
  },
  {
   "cell_type": "code",
   "execution_count": 21,
   "id": "4287869b-6603-49ca-a686-b225f3308c25",
   "metadata": {
    "colab": {
     "base_uri": "https://localhost:8080/"
    },
    "id": "4287869b-6603-49ca-a686-b225f3308c25",
    "outputId": "1abe9390-6814-4adf-b296-aca30c52b07a"
   },
   "outputs": [
    {
     "data": {
      "text/html": [
       "<div>\n",
       "<style scoped>\n",
       "    .dataframe tbody tr th:only-of-type {\n",
       "        vertical-align: middle;\n",
       "    }\n",
       "\n",
       "    .dataframe tbody tr th {\n",
       "        vertical-align: top;\n",
       "    }\n",
       "\n",
       "    .dataframe thead th {\n",
       "        text-align: right;\n",
       "    }\n",
       "</style>\n",
       "<table border=\"1\" class=\"dataframe\">\n",
       "  <thead>\n",
       "    <tr style=\"text-align: right;\">\n",
       "      <th></th>\n",
       "      <th>Unnamed: 0</th>\n",
       "      <th>Unnamed: 1</th>\n",
       "      <th>POOIM Primary Spec/Product ID</th>\n",
       "      <th>POOIM Primary Spec/Seller ID</th>\n",
       "      <th>POOIM Primary Spec/Buyer ID</th>\n",
       "      <th>POOIM Primary Spec/Version</th>\n",
       "      <th>POOIM Primary Spec/Identifiers/SKU</th>\n",
       "      <th>POOIM Primary Spec/Identifiers/UPC</th>\n",
       "      <th>POOIM Primary Spec/Identifiers/GTIN</th>\n",
       "      <th>POOIM Primary Spec/Identifiers/EAN</th>\n",
       "      <th>...</th>\n",
       "      <th>Scissors Secondary Spec/Shipping Depth/Display Value</th>\n",
       "      <th>Scissors Secondary Spec/Shipping Depth/Absolute Value</th>\n",
       "      <th>Scissors Secondary Spec/Shipping Depth/UOM</th>\n",
       "      <th>Scissors Secondary Spec/Shipping Weight _Approximate_/Display Value</th>\n",
       "      <th>Scissors Secondary Spec/Shipping Weight _Approximate_/Absolute Value</th>\n",
       "      <th>Scissors Secondary Spec/Shipping Weight _Approximate_/UOM</th>\n",
       "      <th>Scissors Secondary Spec/Recycled Content#0</th>\n",
       "      <th>Web cameras Secondary Spec/Color#1</th>\n",
       "      <th>Web cameras Secondary Spec/Device Supported#1</th>\n",
       "      <th>Web cameras Secondary Spec/Device Supported#2</th>\n",
       "    </tr>\n",
       "  </thead>\n",
       "  <tbody>\n",
       "    <tr>\n",
       "      <th>0</th>\n",
       "      <td>Foundational Hierarchy /43000000/43210000/4321...</td>\n",
       "      <td>NaN</td>\n",
       "      <td>325b03e8-4d12-43df-8782-52f67ab2d38c_ep3976702</td>\n",
       "      <td>325b03e8-4d12-43df-8782-52f67ab2d38c</td>\n",
       "      <td>8d847c55-5290-4094-a834-309961797c8b</td>\n",
       "      <td>1638562322559</td>\n",
       "      <td>ep3976702</td>\n",
       "      <td>NaN</td>\n",
       "      <td>NaN</td>\n",
       "      <td>NaN</td>\n",
       "      <td>...</td>\n",
       "      <td>NaN</td>\n",
       "      <td>NaN</td>\n",
       "      <td>NaN</td>\n",
       "      <td>NaN</td>\n",
       "      <td>NaN</td>\n",
       "      <td>NaN</td>\n",
       "      <td>NaN</td>\n",
       "      <td>NaN</td>\n",
       "      <td>NaN</td>\n",
       "      <td>NaN</td>\n",
       "    </tr>\n",
       "    <tr>\n",
       "      <th>1</th>\n",
       "      <td>Foundational Hierarchy /43000000/43210000/4321...</td>\n",
       "      <td>NaN</td>\n",
       "      <td>325b03e8-4d12-43df-8782-52f67ab2d38c_ep3979809</td>\n",
       "      <td>325b03e8-4d12-43df-8782-52f67ab2d38c</td>\n",
       "      <td>8d847c55-5290-4094-a834-309961797c8b</td>\n",
       "      <td>1638562322646</td>\n",
       "      <td>ep3979809</td>\n",
       "      <td>NaN</td>\n",
       "      <td>NaN</td>\n",
       "      <td>NaN</td>\n",
       "      <td>...</td>\n",
       "      <td>NaN</td>\n",
       "      <td>NaN</td>\n",
       "      <td>NaN</td>\n",
       "      <td>NaN</td>\n",
       "      <td>NaN</td>\n",
       "      <td>NaN</td>\n",
       "      <td>NaN</td>\n",
       "      <td>NaN</td>\n",
       "      <td>NaN</td>\n",
       "      <td>NaN</td>\n",
       "    </tr>\n",
       "    <tr>\n",
       "      <th>2</th>\n",
       "      <td>Foundational Hierarchy /43000000/43210000/4321...</td>\n",
       "      <td>NaN</td>\n",
       "      <td>325b03e8-4d12-43df-8782-52f67ab2d38c_ep3968519</td>\n",
       "      <td>325b03e8-4d12-43df-8782-52f67ab2d38c</td>\n",
       "      <td>8d847c55-5290-4094-a834-309961797c8b</td>\n",
       "      <td>1638562322466</td>\n",
       "      <td>ep3968519</td>\n",
       "      <td>NaN</td>\n",
       "      <td>NaN</td>\n",
       "      <td>NaN</td>\n",
       "      <td>...</td>\n",
       "      <td>NaN</td>\n",
       "      <td>NaN</td>\n",
       "      <td>NaN</td>\n",
       "      <td>NaN</td>\n",
       "      <td>NaN</td>\n",
       "      <td>NaN</td>\n",
       "      <td>NaN</td>\n",
       "      <td>NaN</td>\n",
       "      <td>NaN</td>\n",
       "      <td>NaN</td>\n",
       "    </tr>\n",
       "    <tr>\n",
       "      <th>3</th>\n",
       "      <td>Foundational Hierarchy /43000000/43210000/4321...</td>\n",
       "      <td>NaN</td>\n",
       "      <td>325b03e8-4d12-43df-8782-52f67ab2d38c_ep3971049</td>\n",
       "      <td>325b03e8-4d12-43df-8782-52f67ab2d38c</td>\n",
       "      <td>8d847c55-5290-4094-a834-309961797c8b</td>\n",
       "      <td>1638562316235</td>\n",
       "      <td>ep3971049</td>\n",
       "      <td>NaN</td>\n",
       "      <td>NaN</td>\n",
       "      <td>NaN</td>\n",
       "      <td>...</td>\n",
       "      <td>NaN</td>\n",
       "      <td>NaN</td>\n",
       "      <td>NaN</td>\n",
       "      <td>NaN</td>\n",
       "      <td>NaN</td>\n",
       "      <td>NaN</td>\n",
       "      <td>NaN</td>\n",
       "      <td>NaN</td>\n",
       "      <td>NaN</td>\n",
       "      <td>NaN</td>\n",
       "    </tr>\n",
       "    <tr>\n",
       "      <th>4</th>\n",
       "      <td>Foundational Hierarchy /43000000/43210000/4321...</td>\n",
       "      <td>NaN</td>\n",
       "      <td>325b03e8-4d12-43df-8782-52f67ab2d38c_ep3990493</td>\n",
       "      <td>325b03e8-4d12-43df-8782-52f67ab2d38c</td>\n",
       "      <td>8d847c55-5290-4094-a834-309961797c8b</td>\n",
       "      <td>1638562324057</td>\n",
       "      <td>ep3990493</td>\n",
       "      <td>NaN</td>\n",
       "      <td>NaN</td>\n",
       "      <td>NaN</td>\n",
       "      <td>...</td>\n",
       "      <td>NaN</td>\n",
       "      <td>NaN</td>\n",
       "      <td>NaN</td>\n",
       "      <td>NaN</td>\n",
       "      <td>NaN</td>\n",
       "      <td>NaN</td>\n",
       "      <td>NaN</td>\n",
       "      <td>NaN</td>\n",
       "      <td>NaN</td>\n",
       "      <td>NaN</td>\n",
       "    </tr>\n",
       "    <tr>\n",
       "      <th>...</th>\n",
       "      <td>...</td>\n",
       "      <td>...</td>\n",
       "      <td>...</td>\n",
       "      <td>...</td>\n",
       "      <td>...</td>\n",
       "      <td>...</td>\n",
       "      <td>...</td>\n",
       "      <td>...</td>\n",
       "      <td>...</td>\n",
       "      <td>...</td>\n",
       "      <td>...</td>\n",
       "      <td>...</td>\n",
       "      <td>...</td>\n",
       "      <td>...</td>\n",
       "      <td>...</td>\n",
       "      <td>...</td>\n",
       "      <td>...</td>\n",
       "      <td>...</td>\n",
       "      <td>...</td>\n",
       "      <td>...</td>\n",
       "      <td>...</td>\n",
       "    </tr>\n",
       "    <tr>\n",
       "      <th>131</th>\n",
       "      <td>Foundational Hierarchy /43000000/43210000/4321...</td>\n",
       "      <td>Foundational Hierarchy /43000000/43210000/4321...</td>\n",
       "      <td>325b03e8-4d12-43df-8782-52f67ab2d38c_223lur857</td>\n",
       "      <td>325b03e8-4d12-43df-8782-52f67ab2d38c</td>\n",
       "      <td>8d847c55-5290-4094-a834-309961797c8b</td>\n",
       "      <td>1657826880842</td>\n",
       "      <td>223lur857</td>\n",
       "      <td>7.191926e+11</td>\n",
       "      <td>7.191926e+11</td>\n",
       "      <td>719192622159.0</td>\n",
       "      <td>...</td>\n",
       "      <td>NaN</td>\n",
       "      <td>NaN</td>\n",
       "      <td>NaN</td>\n",
       "      <td>NaN</td>\n",
       "      <td>NaN</td>\n",
       "      <td>NaN</td>\n",
       "      <td>NaN</td>\n",
       "      <td>NaN</td>\n",
       "      <td>NaN</td>\n",
       "      <td>NaN</td>\n",
       "    </tr>\n",
       "    <tr>\n",
       "      <th>148</th>\n",
       "      <td>Foundational Hierarchy /43000000/43210000/4321...</td>\n",
       "      <td>Foundational Hierarchy /43000000/43210000/4321...</td>\n",
       "      <td>325b03e8-4d12-43df-8782-52f67ab2d38c_222bda587</td>\n",
       "      <td>325b03e8-4d12-43df-8782-52f67ab2d38c</td>\n",
       "      <td>8d847c55-5290-4094-a834-309961797c8b</td>\n",
       "      <td>1657826821761</td>\n",
       "      <td>222bda587</td>\n",
       "      <td>7.669077e+11</td>\n",
       "      <td>7.669077e+11</td>\n",
       "      <td>766907727012.0</td>\n",
       "      <td>...</td>\n",
       "      <td>NaN</td>\n",
       "      <td>NaN</td>\n",
       "      <td>NaN</td>\n",
       "      <td>NaN</td>\n",
       "      <td>NaN</td>\n",
       "      <td>NaN</td>\n",
       "      <td>NaN</td>\n",
       "      <td>NaN</td>\n",
       "      <td>NaN</td>\n",
       "      <td>NaN</td>\n",
       "    </tr>\n",
       "    <tr>\n",
       "      <th>7</th>\n",
       "      <td>Foundational Hierarchy /43000000/43210000/4321...</td>\n",
       "      <td>Foundational Hierarchy /45000000/45120000/4512...</td>\n",
       "      <td>58ac6d3c-05fe-4d1c-9010-b2c5cf9f9800_224cjt862</td>\n",
       "      <td>58ac6d3c-05fe-4d1c-9010-b2c5cf9f9800</td>\n",
       "      <td>8d847c55-5290-4094-a834-309961797c8b</td>\n",
       "      <td>1653424302454</td>\n",
       "      <td>224cjt862</td>\n",
       "      <td>NaN</td>\n",
       "      <td>NaN</td>\n",
       "      <td>NaN</td>\n",
       "      <td>...</td>\n",
       "      <td>NaN</td>\n",
       "      <td>NaN</td>\n",
       "      <td>NaN</td>\n",
       "      <td>NaN</td>\n",
       "      <td>NaN</td>\n",
       "      <td>NaN</td>\n",
       "      <td>NaN</td>\n",
       "      <td>NaN</td>\n",
       "      <td>NaN</td>\n",
       "      <td>NaN</td>\n",
       "    </tr>\n",
       "    <tr>\n",
       "      <th>102</th>\n",
       "      <td>Foundational Hierarchy /43000000/43210000/4321...</td>\n",
       "      <td>Foundational Hierarchy /45000000/45120000/4512...</td>\n",
       "      <td>58ac6d3c-05fe-4d1c-9010-b2c5cf9f9800_224dbg787</td>\n",
       "      <td>58ac6d3c-05fe-4d1c-9010-b2c5cf9f9800</td>\n",
       "      <td>8d847c55-5290-4094-a834-309961797c8b</td>\n",
       "      <td>1652119580774</td>\n",
       "      <td>224dbg787</td>\n",
       "      <td>NaN</td>\n",
       "      <td>NaN</td>\n",
       "      <td>NaN</td>\n",
       "      <td>...</td>\n",
       "      <td>NaN</td>\n",
       "      <td>NaN</td>\n",
       "      <td>NaN</td>\n",
       "      <td>NaN</td>\n",
       "      <td>NaN</td>\n",
       "      <td>NaN</td>\n",
       "      <td>NaN</td>\n",
       "      <td>NaN</td>\n",
       "      <td>NaN</td>\n",
       "      <td>NaN</td>\n",
       "    </tr>\n",
       "    <tr>\n",
       "      <th>122</th>\n",
       "      <td>Foundational Hierarchy /43000000/43210000/4321...</td>\n",
       "      <td>Foundational Hierarchy /45000000/45120000/4512...</td>\n",
       "      <td>58ac6d3c-05fe-4d1c-9010-b2c5cf9f9800_223xne858</td>\n",
       "      <td>58ac6d3c-05fe-4d1c-9010-b2c5cf9f9800</td>\n",
       "      <td>8d847c55-5290-4094-a834-309961797c8b</td>\n",
       "      <td>1653424289653</td>\n",
       "      <td>223xne858</td>\n",
       "      <td>NaN</td>\n",
       "      <td>NaN</td>\n",
       "      <td>NaN</td>\n",
       "      <td>...</td>\n",
       "      <td>NaN</td>\n",
       "      <td>NaN</td>\n",
       "      <td>NaN</td>\n",
       "      <td>NaN</td>\n",
       "      <td>NaN</td>\n",
       "      <td>NaN</td>\n",
       "      <td>NaN</td>\n",
       "      <td>NaN</td>\n",
       "      <td>NaN</td>\n",
       "      <td>NaN</td>\n",
       "    </tr>\n",
       "  </tbody>\n",
       "</table>\n",
       "<p>3844 rows × 2345 columns</p>\n",
       "</div>"
      ],
      "text/plain": [
       "                                            Unnamed: 0  \\\n",
       "0    Foundational Hierarchy /43000000/43210000/4321...   \n",
       "1    Foundational Hierarchy /43000000/43210000/4321...   \n",
       "2    Foundational Hierarchy /43000000/43210000/4321...   \n",
       "3    Foundational Hierarchy /43000000/43210000/4321...   \n",
       "4    Foundational Hierarchy /43000000/43210000/4321...   \n",
       "..                                                 ...   \n",
       "131  Foundational Hierarchy /43000000/43210000/4321...   \n",
       "148  Foundational Hierarchy /43000000/43210000/4321...   \n",
       "7    Foundational Hierarchy /43000000/43210000/4321...   \n",
       "102  Foundational Hierarchy /43000000/43210000/4321...   \n",
       "122  Foundational Hierarchy /43000000/43210000/4321...   \n",
       "\n",
       "                                            Unnamed: 1  \\\n",
       "0                                                  NaN   \n",
       "1                                                  NaN   \n",
       "2                                                  NaN   \n",
       "3                                                  NaN   \n",
       "4                                                  NaN   \n",
       "..                                                 ...   \n",
       "131  Foundational Hierarchy /43000000/43210000/4321...   \n",
       "148  Foundational Hierarchy /43000000/43210000/4321...   \n",
       "7    Foundational Hierarchy /45000000/45120000/4512...   \n",
       "102  Foundational Hierarchy /45000000/45120000/4512...   \n",
       "122  Foundational Hierarchy /45000000/45120000/4512...   \n",
       "\n",
       "                      POOIM Primary Spec/Product ID  \\\n",
       "0    325b03e8-4d12-43df-8782-52f67ab2d38c_ep3976702   \n",
       "1    325b03e8-4d12-43df-8782-52f67ab2d38c_ep3979809   \n",
       "2    325b03e8-4d12-43df-8782-52f67ab2d38c_ep3968519   \n",
       "3    325b03e8-4d12-43df-8782-52f67ab2d38c_ep3971049   \n",
       "4    325b03e8-4d12-43df-8782-52f67ab2d38c_ep3990493   \n",
       "..                                              ...   \n",
       "131  325b03e8-4d12-43df-8782-52f67ab2d38c_223lur857   \n",
       "148  325b03e8-4d12-43df-8782-52f67ab2d38c_222bda587   \n",
       "7    58ac6d3c-05fe-4d1c-9010-b2c5cf9f9800_224cjt862   \n",
       "102  58ac6d3c-05fe-4d1c-9010-b2c5cf9f9800_224dbg787   \n",
       "122  58ac6d3c-05fe-4d1c-9010-b2c5cf9f9800_223xne858   \n",
       "\n",
       "             POOIM Primary Spec/Seller ID  \\\n",
       "0    325b03e8-4d12-43df-8782-52f67ab2d38c   \n",
       "1    325b03e8-4d12-43df-8782-52f67ab2d38c   \n",
       "2    325b03e8-4d12-43df-8782-52f67ab2d38c   \n",
       "3    325b03e8-4d12-43df-8782-52f67ab2d38c   \n",
       "4    325b03e8-4d12-43df-8782-52f67ab2d38c   \n",
       "..                                    ...   \n",
       "131  325b03e8-4d12-43df-8782-52f67ab2d38c   \n",
       "148  325b03e8-4d12-43df-8782-52f67ab2d38c   \n",
       "7    58ac6d3c-05fe-4d1c-9010-b2c5cf9f9800   \n",
       "102  58ac6d3c-05fe-4d1c-9010-b2c5cf9f9800   \n",
       "122  58ac6d3c-05fe-4d1c-9010-b2c5cf9f9800   \n",
       "\n",
       "              POOIM Primary Spec/Buyer ID  POOIM Primary Spec/Version  \\\n",
       "0    8d847c55-5290-4094-a834-309961797c8b               1638562322559   \n",
       "1    8d847c55-5290-4094-a834-309961797c8b               1638562322646   \n",
       "2    8d847c55-5290-4094-a834-309961797c8b               1638562322466   \n",
       "3    8d847c55-5290-4094-a834-309961797c8b               1638562316235   \n",
       "4    8d847c55-5290-4094-a834-309961797c8b               1638562324057   \n",
       "..                                    ...                         ...   \n",
       "131  8d847c55-5290-4094-a834-309961797c8b               1657826880842   \n",
       "148  8d847c55-5290-4094-a834-309961797c8b               1657826821761   \n",
       "7    8d847c55-5290-4094-a834-309961797c8b               1653424302454   \n",
       "102  8d847c55-5290-4094-a834-309961797c8b               1652119580774   \n",
       "122  8d847c55-5290-4094-a834-309961797c8b               1653424289653   \n",
       "\n",
       "    POOIM Primary Spec/Identifiers/SKU  POOIM Primary Spec/Identifiers/UPC  \\\n",
       "0                            ep3976702                                 NaN   \n",
       "1                            ep3979809                                 NaN   \n",
       "2                            ep3968519                                 NaN   \n",
       "3                            ep3971049                                 NaN   \n",
       "4                            ep3990493                                 NaN   \n",
       "..                                 ...                                 ...   \n",
       "131                          223lur857                        7.191926e+11   \n",
       "148                          222bda587                        7.669077e+11   \n",
       "7                            224cjt862                                 NaN   \n",
       "102                          224dbg787                                 NaN   \n",
       "122                          223xne858                                 NaN   \n",
       "\n",
       "     POOIM Primary Spec/Identifiers/GTIN POOIM Primary Spec/Identifiers/EAN  \\\n",
       "0                                    NaN                                NaN   \n",
       "1                                    NaN                                NaN   \n",
       "2                                    NaN                                NaN   \n",
       "3                                    NaN                                NaN   \n",
       "4                                    NaN                                NaN   \n",
       "..                                   ...                                ...   \n",
       "131                         7.191926e+11                     719192622159.0   \n",
       "148                         7.669077e+11                     766907727012.0   \n",
       "7                                    NaN                                NaN   \n",
       "102                                  NaN                                NaN   \n",
       "122                                  NaN                                NaN   \n",
       "\n",
       "     ... Scissors Secondary Spec/Shipping Depth/Display Value  \\\n",
       "0    ...                                                NaN     \n",
       "1    ...                                                NaN     \n",
       "2    ...                                                NaN     \n",
       "3    ...                                                NaN     \n",
       "4    ...                                                NaN     \n",
       "..   ...                                                ...     \n",
       "131  ...                                                NaN     \n",
       "148  ...                                                NaN     \n",
       "7    ...                                                NaN     \n",
       "102  ...                                                NaN     \n",
       "122  ...                                                NaN     \n",
       "\n",
       "     Scissors Secondary Spec/Shipping Depth/Absolute Value  \\\n",
       "0                                                  NaN       \n",
       "1                                                  NaN       \n",
       "2                                                  NaN       \n",
       "3                                                  NaN       \n",
       "4                                                  NaN       \n",
       "..                                                 ...       \n",
       "131                                                NaN       \n",
       "148                                                NaN       \n",
       "7                                                  NaN       \n",
       "102                                                NaN       \n",
       "122                                                NaN       \n",
       "\n",
       "     Scissors Secondary Spec/Shipping Depth/UOM  \\\n",
       "0                                           NaN   \n",
       "1                                           NaN   \n",
       "2                                           NaN   \n",
       "3                                           NaN   \n",
       "4                                           NaN   \n",
       "..                                          ...   \n",
       "131                                         NaN   \n",
       "148                                         NaN   \n",
       "7                                           NaN   \n",
       "102                                         NaN   \n",
       "122                                         NaN   \n",
       "\n",
       "     Scissors Secondary Spec/Shipping Weight _Approximate_/Display Value  \\\n",
       "0                                                  NaN                     \n",
       "1                                                  NaN                     \n",
       "2                                                  NaN                     \n",
       "3                                                  NaN                     \n",
       "4                                                  NaN                     \n",
       "..                                                 ...                     \n",
       "131                                                NaN                     \n",
       "148                                                NaN                     \n",
       "7                                                  NaN                     \n",
       "102                                                NaN                     \n",
       "122                                                NaN                     \n",
       "\n",
       "    Scissors Secondary Spec/Shipping Weight _Approximate_/Absolute Value  \\\n",
       "0                                                  NaN                     \n",
       "1                                                  NaN                     \n",
       "2                                                  NaN                     \n",
       "3                                                  NaN                     \n",
       "4                                                  NaN                     \n",
       "..                                                 ...                     \n",
       "131                                                NaN                     \n",
       "148                                                NaN                     \n",
       "7                                                  NaN                     \n",
       "102                                                NaN                     \n",
       "122                                                NaN                     \n",
       "\n",
       "    Scissors Secondary Spec/Shipping Weight _Approximate_/UOM  \\\n",
       "0                                                  NaN          \n",
       "1                                                  NaN          \n",
       "2                                                  NaN          \n",
       "3                                                  NaN          \n",
       "4                                                  NaN          \n",
       "..                                                 ...          \n",
       "131                                                NaN          \n",
       "148                                                NaN          \n",
       "7                                                  NaN          \n",
       "102                                                NaN          \n",
       "122                                                NaN          \n",
       "\n",
       "    Scissors Secondary Spec/Recycled Content#0  \\\n",
       "0                                          NaN   \n",
       "1                                          NaN   \n",
       "2                                          NaN   \n",
       "3                                          NaN   \n",
       "4                                          NaN   \n",
       "..                                         ...   \n",
       "131                                        NaN   \n",
       "148                                        NaN   \n",
       "7                                          NaN   \n",
       "102                                        NaN   \n",
       "122                                        NaN   \n",
       "\n",
       "     Web cameras Secondary Spec/Color#1  \\\n",
       "0                                   NaN   \n",
       "1                                   NaN   \n",
       "2                                   NaN   \n",
       "3                                   NaN   \n",
       "4                                   NaN   \n",
       "..                                  ...   \n",
       "131                                 NaN   \n",
       "148                                 NaN   \n",
       "7                                   NaN   \n",
       "102                                 NaN   \n",
       "122                                 NaN   \n",
       "\n",
       "     Web cameras Secondary Spec/Device Supported#1  \\\n",
       "0                                              NaN   \n",
       "1                                              NaN   \n",
       "2                                              NaN   \n",
       "3                                              NaN   \n",
       "4                                              NaN   \n",
       "..                                             ...   \n",
       "131                                            NaN   \n",
       "148                                            NaN   \n",
       "7                                              NaN   \n",
       "102                                            NaN   \n",
       "122                                            NaN   \n",
       "\n",
       "    Web cameras Secondary Spec/Device Supported#2  \n",
       "0                                             NaN  \n",
       "1                                             NaN  \n",
       "2                                             NaN  \n",
       "3                                             NaN  \n",
       "4                                             NaN  \n",
       "..                                            ...  \n",
       "131                                           NaN  \n",
       "148                                           NaN  \n",
       "7                                             NaN  \n",
       "102                                           NaN  \n",
       "122                                           NaN  \n",
       "\n",
       "[3844 rows x 2345 columns]"
      ]
     },
     "execution_count": 21,
     "metadata": {},
     "output_type": "execute_result"
    }
   ],
   "source": [
    "df_POOIM_Export[df_POOIM_Export['POOIM Primary Spec/Category'] == 43211902]"
   ]
  },
  {
   "cell_type": "code",
   "execution_count": 22,
   "id": "625c91b3-4a1a-4851-bcab-03d4afd3fe69",
   "metadata": {
    "colab": {
     "base_uri": "https://localhost:8080/"
    },
    "id": "625c91b3-4a1a-4851-bcab-03d4afd3fe69",
    "outputId": "725ae51f-9efa-4c43-bbb0-8a33c36b9098"
   },
   "outputs": [
    {
     "name": "stdout",
     "output_type": "stream",
     "text": [
      "Product specific battery packs Secondary Spec/Battery Rechargeable                   0\n",
      "Product specific battery packs Secondary Spec/Battery Chemistry                      0\n",
      "Product specific battery packs Secondary Spec/Number of Cells                        0\n",
      "Product specific battery packs Secondary Spec/Maximum Battery Recharge Life Cycle    0\n",
      "Product specific battery packs Secondary Spec/Rugged                                 0\n",
      "                                                                                    ..\n",
      "Scissors Secondary Spec/Shipping Weight _Approximate_/UOM                            0\n",
      "Scissors Secondary Spec/Recycled Content#0                                           0\n",
      "Web cameras Secondary Spec/Color#1                                                   0\n",
      "Web cameras Secondary Spec/Device Supported#1                                        0\n",
      "Web cameras Secondary Spec/Device Supported#2                                        0\n",
      "Length: 2079, dtype: int64\n"
     ]
    }
   ],
   "source": [
    "## Filter only the secondary spec columns from the POOIM catalog file\n",
    "a = df_POOIM_Export[df_POOIM_Export['POOIM Primary Spec/Category']== 43211902]\n",
    "# print(a.columns)\n",
    "# Filter only the secondary spec columns from the POOIM catalog file\n",
    "Secondary_spec_col=[]\n",
    "for col in a.columns:\n",
    "    if 'Secondary Spec' in col:\n",
    "        Secondary_spec_col.append(col)\n",
    "        # display(a)\n",
    "# print(\"All the secondary Spec columns: \", Secondary_spec_col)\n",
    "\n",
    "a = a.filter(regex='Secondary*')\n",
    "# print(a.columns)\n",
    "n = a.nunique(axis=0)\n",
    "print(n)"
   ]
  },
  {
   "cell_type": "code",
   "execution_count": 23,
   "id": "d26fa548-6972-4704-bfd7-c52b93088d3b",
   "metadata": {},
   "outputs": [
    {
     "name": "stdout",
     "output_type": "stream",
     "text": [
      "Product specific battery packs Secondary Spec/Battery Rechargeable                   [nan]\n",
      "Product specific battery packs Secondary Spec/Battery Chemistry                      [nan]\n",
      "Product specific battery packs Secondary Spec/Number of Cells                        [nan]\n",
      "Product specific battery packs Secondary Spec/Maximum Battery Recharge Life Cycle    [nan]\n",
      "Product specific battery packs Secondary Spec/Rugged                                 [nan]\n",
      "                                                                                     ...  \n",
      "Scissors Secondary Spec/Shipping Weight _Approximate_/UOM                            [nan]\n",
      "Scissors Secondary Spec/Recycled Content#0                                           [nan]\n",
      "Web cameras Secondary Spec/Color#1                                                   [nan]\n",
      "Web cameras Secondary Spec/Device Supported#1                                        [nan]\n",
      "Web cameras Secondary Spec/Device Supported#2                                        [nan]\n",
      "Length: 2079, dtype: object\n"
     ]
    }
   ],
   "source": [
    "## Find the unique values for every secondary specs\n",
    "print(a.T.apply(lambda x: x.unique(), axis=1))"
   ]
  },
  {
   "cell_type": "code",
   "execution_count": 24,
   "id": "1efa0b9c-caaf-454c-97da-722a1fbb79ad",
   "metadata": {
    "id": "1efa0b9c-caaf-454c-97da-722a1fbb79ad"
   },
   "outputs": [
    {
     "name": "stdout",
     "output_type": "stream",
     "text": [
      "Product specific battery packs Secondary Spec/Battery Rechargeable                   0\n",
      "Product specific battery packs Secondary Spec/Battery Chemistry                      0\n",
      "Product specific battery packs Secondary Spec/Number of Cells                        0\n",
      "Product specific battery packs Secondary Spec/Maximum Battery Recharge Life Cycle    0\n",
      "Product specific battery packs Secondary Spec/Rugged                                 0\n",
      "                                                                                    ..\n",
      "Scissors Secondary Spec/Shipping Weight _Approximate_/UOM                            0\n",
      "Scissors Secondary Spec/Recycled Content#0                                           0\n",
      "Web cameras Secondary Spec/Color#1                                                   0\n",
      "Web cameras Secondary Spec/Device Supported#1                                        0\n",
      "Web cameras Secondary Spec/Device Supported#2                                        0\n",
      "Length: 2079, dtype: int64\n"
     ]
    }
   ],
   "source": [
    "a = a.filter(regex='Secondary*')\n",
    "# print(a.columns)\n",
    "## Find the unique values for every secondary specs\n",
    "print(a.T.apply(lambda x: x.nunique(dropna=True), axis=1))"
   ]
  },
  {
   "cell_type": "code",
   "execution_count": 25,
   "id": "2e12c931-6d23-4995-b52c-da0552d52888",
   "metadata": {
    "id": "2e12c931-6d23-4995-b52c-da0552d52888"
   },
   "outputs": [
    {
     "data": {
      "text/plain": [
       "0      NaN\n",
       "1      NaN\n",
       "2      NaN\n",
       "3      NaN\n",
       "4      NaN\n",
       "      ... \n",
       "131    NaN\n",
       "148    NaN\n",
       "7      NaN\n",
       "102    NaN\n",
       "122    NaN\n",
       "Name: Mobile phones Secondary Spec/3rd Processor Core, Length: 3844, dtype: object"
      ]
     },
     "execution_count": 25,
     "metadata": {},
     "output_type": "execute_result"
    }
   ],
   "source": [
    "a[\"Mobile phones Secondary Spec/3rd Processor Core\"]"
   ]
  },
  {
   "cell_type": "code",
   "execution_count": 26,
   "id": "b0ad13a0-d025-44da-9746-328557ba00fa",
   "metadata": {
    "id": "b0ad13a0-d025-44da-9746-328557ba00fa"
   },
   "outputs": [
    {
     "data": {
      "text/plain": [
       "Product specific battery packs Secondary Spec/Battery Rechargeable                   [nan]\n",
       "Product specific battery packs Secondary Spec/Battery Chemistry                      [nan]\n",
       "Product specific battery packs Secondary Spec/Number of Cells                        [nan]\n",
       "Product specific battery packs Secondary Spec/Maximum Battery Recharge Life Cycle    [nan]\n",
       "Product specific battery packs Secondary Spec/Rugged                                 [nan]\n",
       "                                                                                     ...  \n",
       "Scissors Secondary Spec/Shipping Weight _Approximate_/UOM                            [nan]\n",
       "Scissors Secondary Spec/Recycled Content#0                                           [nan]\n",
       "Web cameras Secondary Spec/Color#1                                                   [nan]\n",
       "Web cameras Secondary Spec/Device Supported#1                                        [nan]\n",
       "Web cameras Secondary Spec/Device Supported#2                                        [nan]\n",
       "Length: 2079, dtype: object"
      ]
     },
     "execution_count": 26,
     "metadata": {},
     "output_type": "execute_result"
    }
   ],
   "source": [
    "a.T.apply(lambda x: x.unique(), axis=1)"
   ]
  },
  {
   "cell_type": "code",
   "execution_count": 27,
   "id": "c80ef6da-199f-4873-9a7d-87071b668d67",
   "metadata": {
    "id": "c80ef6da-199f-4873-9a7d-87071b668d67"
   },
   "outputs": [
    {
     "data": {
      "text/plain": [
       "array([nan], dtype=object)"
      ]
     },
     "execution_count": 27,
     "metadata": {},
     "output_type": "execute_result"
    }
   ],
   "source": [
    "a[\"Mobile phones Secondary Spec/3rd Processor Core\"].unique()"
   ]
  },
  {
   "cell_type": "code",
   "execution_count": 28,
   "id": "e8fa7618-f962-4cd4-a7be-4d30bd26b1d2",
   "metadata": {
    "id": "e8fa7618-f962-4cd4-a7be-4d30bd26b1d2"
   },
   "outputs": [
    {
     "data": {
      "text/plain": [
       "Product specific battery packs Secondary Spec/Battery Rechargeable                   3844\n",
       "Product specific battery packs Secondary Spec/Battery Chemistry                      3844\n",
       "Product specific battery packs Secondary Spec/Number of Cells                        3844\n",
       "Product specific battery packs Secondary Spec/Maximum Battery Recharge Life Cycle    3844\n",
       "Product specific battery packs Secondary Spec/Rugged                                 3844\n",
       "                                                                                     ... \n",
       "Scissors Secondary Spec/Shipping Weight _Approximate_/UOM                            3844\n",
       "Scissors Secondary Spec/Recycled Content#0                                           3844\n",
       "Web cameras Secondary Spec/Color#1                                                   3844\n",
       "Web cameras Secondary Spec/Device Supported#1                                        3844\n",
       "Web cameras Secondary Spec/Device Supported#2                                        3844\n",
       "Length: 2079, dtype: int64"
      ]
     },
     "execution_count": 28,
     "metadata": {},
     "output_type": "execute_result"
    }
   ],
   "source": [
    "a.isna().sum()"
   ]
  },
  {
   "cell_type": "markdown",
   "id": "5a097d32-c24e-428a-9085-5c78decd7cba",
   "metadata": {},
   "source": [
    "### Dropping all the null values from the dataframe"
   ]
  },
  {
   "cell_type": "code",
   "execution_count": 29,
   "id": "95097611-9f5c-4069-8a55-c3fed8ed9f33",
   "metadata": {},
   "outputs": [
    {
     "data": {
      "text/html": [
       "<div>\n",
       "<style scoped>\n",
       "    .dataframe tbody tr th:only-of-type {\n",
       "        vertical-align: middle;\n",
       "    }\n",
       "\n",
       "    .dataframe tbody tr th {\n",
       "        vertical-align: top;\n",
       "    }\n",
       "\n",
       "    .dataframe thead th {\n",
       "        text-align: right;\n",
       "    }\n",
       "</style>\n",
       "<table border=\"1\" class=\"dataframe\">\n",
       "  <thead>\n",
       "    <tr style=\"text-align: right;\">\n",
       "      <th></th>\n",
       "      <th>Product specific battery packs Secondary Spec/Battery Rechargeable</th>\n",
       "      <th>Product specific battery packs Secondary Spec/Battery Chemistry</th>\n",
       "      <th>Product specific battery packs Secondary Spec/Number of Cells</th>\n",
       "      <th>Product specific battery packs Secondary Spec/Maximum Battery Recharge Life Cycle</th>\n",
       "      <th>Product specific battery packs Secondary Spec/Rugged</th>\n",
       "      <th>Product specific battery packs Secondary Spec/Compatible to OEM Part Number</th>\n",
       "      <th>Product specific battery packs Secondary Spec/Compatibility</th>\n",
       "      <th>Product specific battery packs Secondary Spec/Post-consumer-waste%</th>\n",
       "      <th>Product specific battery packs Secondary Spec/Energy Star</th>\n",
       "      <th>Product specific battery packs Secondary Spec/Application or Usage#0</th>\n",
       "      <th>...</th>\n",
       "      <th>Scissors Secondary Spec/Shipping Depth/Display Value</th>\n",
       "      <th>Scissors Secondary Spec/Shipping Depth/Absolute Value</th>\n",
       "      <th>Scissors Secondary Spec/Shipping Depth/UOM</th>\n",
       "      <th>Scissors Secondary Spec/Shipping Weight _Approximate_/Display Value</th>\n",
       "      <th>Scissors Secondary Spec/Shipping Weight _Approximate_/Absolute Value</th>\n",
       "      <th>Scissors Secondary Spec/Shipping Weight _Approximate_/UOM</th>\n",
       "      <th>Scissors Secondary Spec/Recycled Content#0</th>\n",
       "      <th>Web cameras Secondary Spec/Color#1</th>\n",
       "      <th>Web cameras Secondary Spec/Device Supported#1</th>\n",
       "      <th>Web cameras Secondary Spec/Device Supported#2</th>\n",
       "    </tr>\n",
       "  </thead>\n",
       "  <tbody>\n",
       "  </tbody>\n",
       "</table>\n",
       "<p>0 rows × 2079 columns</p>\n",
       "</div>"
      ],
      "text/plain": [
       "Empty DataFrame\n",
       "Columns: [Product specific battery packs Secondary Spec/Battery Rechargeable, Product specific battery packs Secondary Spec/Battery Chemistry, Product specific battery packs Secondary Spec/Number of Cells, Product specific battery packs Secondary Spec/Maximum Battery Recharge Life Cycle, Product specific battery packs Secondary Spec/Rugged, Product specific battery packs Secondary Spec/Compatible to OEM Part Number, Product specific battery packs Secondary Spec/Compatibility, Product specific battery packs Secondary Spec/Post-consumer-waste%, Product specific battery packs Secondary Spec/Energy Star, Product specific battery packs Secondary Spec/Application or Usage#0, Product specific battery packs Secondary Spec/Battery Size#0, Product specific battery packs Secondary Spec/Battery Capacity#0/Display Value, Product specific battery packs Secondary Spec/Battery Capacity#0/Absolute Value, Product specific battery packs Secondary Spec/Battery Capacity#0/UOM, Product specific battery packs Secondary Spec/Battery Energy/Display Value, Product specific battery packs Secondary Spec/Battery Energy/Absolute Value, Product specific battery packs Secondary Spec/Battery Energy/UOM, Product specific battery packs Secondary Spec/Output Voltage#0/Display Value, Product specific battery packs Secondary Spec/Output Voltage#0/Absolute Value, Product specific battery packs Secondary Spec/Output Voltage#0/UOM, Product specific battery packs Secondary Spec/Maximum Battery Run Time/Display Value, Product specific battery packs Secondary Spec/Maximum Battery Run Time/Absolute Value, Product specific battery packs Secondary Spec/Maximum Battery Run Time/UOM, Product specific battery packs Secondary Spec/Maximum Battery Recharge Time/Display Value, Product specific battery packs Secondary Spec/Maximum Battery Recharge Time/Absolute Value, Product specific battery packs Secondary Spec/Maximum Battery Recharge Time/UOM, Product specific battery packs Secondary Spec/Height/Display Value, Product specific battery packs Secondary Spec/Height/Absolute Value, Product specific battery packs Secondary Spec/Height/UOM, Product specific battery packs Secondary Spec/Width/Display Value, Product specific battery packs Secondary Spec/Width/Absolute Value, Product specific battery packs Secondary Spec/Width/UOM, Product specific battery packs Secondary Spec/Depth/Display Value, Product specific battery packs Secondary Spec/Depth/Absolute Value, Product specific battery packs Secondary Spec/Depth/UOM, Product specific battery packs Secondary Spec/Weight _Approximate_#0/Display Value, Product specific battery packs Secondary Spec/Weight _Approximate_#0/Absolute Value, Product specific battery packs Secondary Spec/Weight _Approximate_#0/UOM, Random access memory RAM Secondary Spec/Memory Technology, Random access memory RAM Secondary Spec/Memory Standard, Random access memory RAM Secondary Spec/Memory Rank, Random access memory RAM Secondary Spec/Error Checking, Random access memory RAM Secondary Spec/CAS Latency, Random access memory RAM Secondary Spec/Rugged, Random access memory RAM Secondary Spec/Number of Pins, Random access memory RAM Secondary Spec/Form Factor, Random access memory RAM Secondary Spec/Compatibility, Random access memory RAM Secondary Spec/Energy Star, Random access memory RAM Secondary Spec/TCO Certified, Random access memory RAM Secondary Spec/Memory Size/Display Value, Random access memory RAM Secondary Spec/Memory Size/Absolute Value, Random access memory RAM Secondary Spec/Memory Size/UOM, Random access memory RAM Secondary Spec/Memory Voltage/Display Value, Random access memory RAM Secondary Spec/Memory Voltage/Absolute Value, Random access memory RAM Secondary Spec/Memory Voltage/UOM, Random access memory RAM Secondary Spec/Number of Modules#0, Random access memory RAM Secondary Spec/Memory Speed/Display Value, Random access memory RAM Secondary Spec/Memory Speed/Absolute Value, Random access memory RAM Secondary Spec/Memory Speed/UOM, Random access memory RAM Secondary Spec/Signal Processing#0, Random access memory RAM Secondary Spec/Device Supported#0, Random access memory RAM Secondary Spec/Thickness/Display Value, Random access memory RAM Secondary Spec/Thickness/Absolute Value, Random access memory RAM Secondary Spec/Thickness/UOM, Random access memory RAM Secondary Spec/Width/Display Value, Random access memory RAM Secondary Spec/Width/Absolute Value, Random access memory RAM Secondary Spec/Width/UOM, Random access memory RAM Secondary Spec/Length/Display Value, Random access memory RAM Secondary Spec/Length/Absolute Value, Random access memory RAM Secondary Spec/Length/UOM, Random access memory RAM Secondary Spec/Weight _Approximate_#0/Display Value, Random access memory RAM Secondary Spec/Weight _Approximate_#0/Absolute Value, Random access memory RAM Secondary Spec/Weight _Approximate_#0/UOM, Flash memory Secondary Spec/Speed Class Rating, Flash memory Secondary Spec/Video Speed Class, Flash memory Secondary Spec/Application Performance Class, Flash memory Secondary Spec/Near Field Communication, Flash memory Secondary Spec/Wireless LAN, Flash memory Secondary Spec/Energy Star, Flash memory Secondary Spec/TCO Certified, Flash memory Secondary Spec/Storage Capacity/Display Value, Flash memory Secondary Spec/Storage Capacity/Absolute Value, Flash memory Secondary Spec/Storage Capacity/UOM, Flash memory Secondary Spec/Memory Speed/Display Value, Flash memory Secondary Spec/Memory Speed/Absolute Value, Flash memory Secondary Spec/Memory Speed/UOM, Flash memory Secondary Spec/Maximum Read Speed/Display Value, Flash memory Secondary Spec/Maximum Read Speed/Absolute Value, Flash memory Secondary Spec/Maximum Read Speed/UOM, Flash memory Secondary Spec/Maximum Write Speed/Display Value, Flash memory Secondary Spec/Maximum Write Speed/Absolute Value, Flash memory Secondary Spec/Maximum Write Speed/UOM, Flash memory Secondary Spec/Data Transfer Rate/Display Value, Flash memory Secondary Spec/Data Transfer Rate/Absolute Value, Flash memory Secondary Spec/Data Transfer Rate/UOM, Flash memory Secondary Spec/Width/Display Value, Flash memory Secondary Spec/Width/Absolute Value, Flash memory Secondary Spec/Width/UOM, Flash memory Secondary Spec/Thickness/Display Value, Flash memory Secondary Spec/Thickness/Absolute Value, ...]\n",
       "Index: []\n",
       "\n",
       "[0 rows x 2079 columns]"
      ]
     },
     "execution_count": 29,
     "metadata": {},
     "output_type": "execute_result"
    }
   ],
   "source": [
    "a = a.dropna(how='any',axis=0)\n",
    "a"
   ]
  },
  {
   "cell_type": "code",
   "execution_count": 30,
   "id": "da24aa3e-f6e6-465e-95ae-898cdfc42d0b",
   "metadata": {
    "id": "da24aa3e-f6e6-465e-95ae-898cdfc42d0b"
   },
   "outputs": [
    {
     "data": {
      "text/html": [
       "<div>\n",
       "<style scoped>\n",
       "    .dataframe tbody tr th:only-of-type {\n",
       "        vertical-align: middle;\n",
       "    }\n",
       "\n",
       "    .dataframe tbody tr th {\n",
       "        vertical-align: top;\n",
       "    }\n",
       "\n",
       "    .dataframe thead th {\n",
       "        text-align: right;\n",
       "    }\n",
       "</style>\n",
       "<table border=\"1\" class=\"dataframe\">\n",
       "  <thead>\n",
       "    <tr style=\"text-align: right;\">\n",
       "      <th></th>\n",
       "      <th>Product specific battery packs Secondary Spec/Battery Rechargeable</th>\n",
       "      <th>Product specific battery packs Secondary Spec/Battery Chemistry</th>\n",
       "      <th>Product specific battery packs Secondary Spec/Number of Cells</th>\n",
       "      <th>Product specific battery packs Secondary Spec/Maximum Battery Recharge Life Cycle</th>\n",
       "      <th>Product specific battery packs Secondary Spec/Rugged</th>\n",
       "      <th>Product specific battery packs Secondary Spec/Compatible to OEM Part Number</th>\n",
       "      <th>Product specific battery packs Secondary Spec/Compatibility</th>\n",
       "      <th>Product specific battery packs Secondary Spec/Post-consumer-waste%</th>\n",
       "      <th>Product specific battery packs Secondary Spec/Energy Star</th>\n",
       "      <th>Product specific battery packs Secondary Spec/Application or Usage#0</th>\n",
       "      <th>...</th>\n",
       "      <th>Scissors Secondary Spec/Shipping Depth/Display Value</th>\n",
       "      <th>Scissors Secondary Spec/Shipping Depth/Absolute Value</th>\n",
       "      <th>Scissors Secondary Spec/Shipping Depth/UOM</th>\n",
       "      <th>Scissors Secondary Spec/Shipping Weight _Approximate_/Display Value</th>\n",
       "      <th>Scissors Secondary Spec/Shipping Weight _Approximate_/Absolute Value</th>\n",
       "      <th>Scissors Secondary Spec/Shipping Weight _Approximate_/UOM</th>\n",
       "      <th>Scissors Secondary Spec/Recycled Content#0</th>\n",
       "      <th>Web cameras Secondary Spec/Color#1</th>\n",
       "      <th>Web cameras Secondary Spec/Device Supported#1</th>\n",
       "      <th>Web cameras Secondary Spec/Device Supported#2</th>\n",
       "    </tr>\n",
       "  </thead>\n",
       "  <tbody>\n",
       "  </tbody>\n",
       "</table>\n",
       "<p>0 rows × 2079 columns</p>\n",
       "</div>"
      ],
      "text/plain": [
       "Empty DataFrame\n",
       "Columns: [Product specific battery packs Secondary Spec/Battery Rechargeable, Product specific battery packs Secondary Spec/Battery Chemistry, Product specific battery packs Secondary Spec/Number of Cells, Product specific battery packs Secondary Spec/Maximum Battery Recharge Life Cycle, Product specific battery packs Secondary Spec/Rugged, Product specific battery packs Secondary Spec/Compatible to OEM Part Number, Product specific battery packs Secondary Spec/Compatibility, Product specific battery packs Secondary Spec/Post-consumer-waste%, Product specific battery packs Secondary Spec/Energy Star, Product specific battery packs Secondary Spec/Application or Usage#0, Product specific battery packs Secondary Spec/Battery Size#0, Product specific battery packs Secondary Spec/Battery Capacity#0/Display Value, Product specific battery packs Secondary Spec/Battery Capacity#0/Absolute Value, Product specific battery packs Secondary Spec/Battery Capacity#0/UOM, Product specific battery packs Secondary Spec/Battery Energy/Display Value, Product specific battery packs Secondary Spec/Battery Energy/Absolute Value, Product specific battery packs Secondary Spec/Battery Energy/UOM, Product specific battery packs Secondary Spec/Output Voltage#0/Display Value, Product specific battery packs Secondary Spec/Output Voltage#0/Absolute Value, Product specific battery packs Secondary Spec/Output Voltage#0/UOM, Product specific battery packs Secondary Spec/Maximum Battery Run Time/Display Value, Product specific battery packs Secondary Spec/Maximum Battery Run Time/Absolute Value, Product specific battery packs Secondary Spec/Maximum Battery Run Time/UOM, Product specific battery packs Secondary Spec/Maximum Battery Recharge Time/Display Value, Product specific battery packs Secondary Spec/Maximum Battery Recharge Time/Absolute Value, Product specific battery packs Secondary Spec/Maximum Battery Recharge Time/UOM, Product specific battery packs Secondary Spec/Height/Display Value, Product specific battery packs Secondary Spec/Height/Absolute Value, Product specific battery packs Secondary Spec/Height/UOM, Product specific battery packs Secondary Spec/Width/Display Value, Product specific battery packs Secondary Spec/Width/Absolute Value, Product specific battery packs Secondary Spec/Width/UOM, Product specific battery packs Secondary Spec/Depth/Display Value, Product specific battery packs Secondary Spec/Depth/Absolute Value, Product specific battery packs Secondary Spec/Depth/UOM, Product specific battery packs Secondary Spec/Weight _Approximate_#0/Display Value, Product specific battery packs Secondary Spec/Weight _Approximate_#0/Absolute Value, Product specific battery packs Secondary Spec/Weight _Approximate_#0/UOM, Random access memory RAM Secondary Spec/Memory Technology, Random access memory RAM Secondary Spec/Memory Standard, Random access memory RAM Secondary Spec/Memory Rank, Random access memory RAM Secondary Spec/Error Checking, Random access memory RAM Secondary Spec/CAS Latency, Random access memory RAM Secondary Spec/Rugged, Random access memory RAM Secondary Spec/Number of Pins, Random access memory RAM Secondary Spec/Form Factor, Random access memory RAM Secondary Spec/Compatibility, Random access memory RAM Secondary Spec/Energy Star, Random access memory RAM Secondary Spec/TCO Certified, Random access memory RAM Secondary Spec/Memory Size/Display Value, Random access memory RAM Secondary Spec/Memory Size/Absolute Value, Random access memory RAM Secondary Spec/Memory Size/UOM, Random access memory RAM Secondary Spec/Memory Voltage/Display Value, Random access memory RAM Secondary Spec/Memory Voltage/Absolute Value, Random access memory RAM Secondary Spec/Memory Voltage/UOM, Random access memory RAM Secondary Spec/Number of Modules#0, Random access memory RAM Secondary Spec/Memory Speed/Display Value, Random access memory RAM Secondary Spec/Memory Speed/Absolute Value, Random access memory RAM Secondary Spec/Memory Speed/UOM, Random access memory RAM Secondary Spec/Signal Processing#0, Random access memory RAM Secondary Spec/Device Supported#0, Random access memory RAM Secondary Spec/Thickness/Display Value, Random access memory RAM Secondary Spec/Thickness/Absolute Value, Random access memory RAM Secondary Spec/Thickness/UOM, Random access memory RAM Secondary Spec/Width/Display Value, Random access memory RAM Secondary Spec/Width/Absolute Value, Random access memory RAM Secondary Spec/Width/UOM, Random access memory RAM Secondary Spec/Length/Display Value, Random access memory RAM Secondary Spec/Length/Absolute Value, Random access memory RAM Secondary Spec/Length/UOM, Random access memory RAM Secondary Spec/Weight _Approximate_#0/Display Value, Random access memory RAM Secondary Spec/Weight _Approximate_#0/Absolute Value, Random access memory RAM Secondary Spec/Weight _Approximate_#0/UOM, Flash memory Secondary Spec/Speed Class Rating, Flash memory Secondary Spec/Video Speed Class, Flash memory Secondary Spec/Application Performance Class, Flash memory Secondary Spec/Near Field Communication, Flash memory Secondary Spec/Wireless LAN, Flash memory Secondary Spec/Energy Star, Flash memory Secondary Spec/TCO Certified, Flash memory Secondary Spec/Storage Capacity/Display Value, Flash memory Secondary Spec/Storage Capacity/Absolute Value, Flash memory Secondary Spec/Storage Capacity/UOM, Flash memory Secondary Spec/Memory Speed/Display Value, Flash memory Secondary Spec/Memory Speed/Absolute Value, Flash memory Secondary Spec/Memory Speed/UOM, Flash memory Secondary Spec/Maximum Read Speed/Display Value, Flash memory Secondary Spec/Maximum Read Speed/Absolute Value, Flash memory Secondary Spec/Maximum Read Speed/UOM, Flash memory Secondary Spec/Maximum Write Speed/Display Value, Flash memory Secondary Spec/Maximum Write Speed/Absolute Value, Flash memory Secondary Spec/Maximum Write Speed/UOM, Flash memory Secondary Spec/Data Transfer Rate/Display Value, Flash memory Secondary Spec/Data Transfer Rate/Absolute Value, Flash memory Secondary Spec/Data Transfer Rate/UOM, Flash memory Secondary Spec/Width/Display Value, Flash memory Secondary Spec/Width/Absolute Value, Flash memory Secondary Spec/Width/UOM, Flash memory Secondary Spec/Thickness/Display Value, Flash memory Secondary Spec/Thickness/Absolute Value, ...]\n",
       "Index: []\n",
       "\n",
       "[0 rows x 2079 columns]"
      ]
     },
     "execution_count": 30,
     "metadata": {},
     "output_type": "execute_result"
    }
   ],
   "source": [
    "a.notnull()"
   ]
  },
  {
   "cell_type": "code",
   "execution_count": 31,
   "id": "b05110c0-d620-4c7b-b737-56d13bbad1a1",
   "metadata": {
    "id": "b05110c0-d620-4c7b-b737-56d13bbad1a1"
   },
   "outputs": [
    {
     "data": {
      "text/html": [
       "<div>\n",
       "<style scoped>\n",
       "    .dataframe tbody tr th:only-of-type {\n",
       "        vertical-align: middle;\n",
       "    }\n",
       "\n",
       "    .dataframe tbody tr th {\n",
       "        vertical-align: top;\n",
       "    }\n",
       "\n",
       "    .dataframe thead th {\n",
       "        text-align: right;\n",
       "    }\n",
       "</style>\n",
       "<table border=\"1\" class=\"dataframe\">\n",
       "  <thead>\n",
       "    <tr style=\"text-align: right;\">\n",
       "      <th></th>\n",
       "      <th>Product specific battery packs Secondary Spec/Battery Rechargeable</th>\n",
       "      <th>Product specific battery packs Secondary Spec/Battery Chemistry</th>\n",
       "      <th>Product specific battery packs Secondary Spec/Number of Cells</th>\n",
       "      <th>Product specific battery packs Secondary Spec/Maximum Battery Recharge Life Cycle</th>\n",
       "      <th>Product specific battery packs Secondary Spec/Rugged</th>\n",
       "      <th>Product specific battery packs Secondary Spec/Compatible to OEM Part Number</th>\n",
       "      <th>Product specific battery packs Secondary Spec/Compatibility</th>\n",
       "      <th>Product specific battery packs Secondary Spec/Post-consumer-waste%</th>\n",
       "      <th>Product specific battery packs Secondary Spec/Energy Star</th>\n",
       "      <th>Product specific battery packs Secondary Spec/Application or Usage#0</th>\n",
       "      <th>...</th>\n",
       "      <th>Scissors Secondary Spec/Shipping Depth/Display Value</th>\n",
       "      <th>Scissors Secondary Spec/Shipping Depth/Absolute Value</th>\n",
       "      <th>Scissors Secondary Spec/Shipping Depth/UOM</th>\n",
       "      <th>Scissors Secondary Spec/Shipping Weight _Approximate_/Display Value</th>\n",
       "      <th>Scissors Secondary Spec/Shipping Weight _Approximate_/Absolute Value</th>\n",
       "      <th>Scissors Secondary Spec/Shipping Weight _Approximate_/UOM</th>\n",
       "      <th>Scissors Secondary Spec/Recycled Content#0</th>\n",
       "      <th>Web cameras Secondary Spec/Color#1</th>\n",
       "      <th>Web cameras Secondary Spec/Device Supported#1</th>\n",
       "      <th>Web cameras Secondary Spec/Device Supported#2</th>\n",
       "    </tr>\n",
       "  </thead>\n",
       "  <tbody>\n",
       "  </tbody>\n",
       "</table>\n",
       "<p>0 rows × 2079 columns</p>\n",
       "</div>"
      ],
      "text/plain": [
       "Empty DataFrame\n",
       "Columns: [Product specific battery packs Secondary Spec/Battery Rechargeable, Product specific battery packs Secondary Spec/Battery Chemistry, Product specific battery packs Secondary Spec/Number of Cells, Product specific battery packs Secondary Spec/Maximum Battery Recharge Life Cycle, Product specific battery packs Secondary Spec/Rugged, Product specific battery packs Secondary Spec/Compatible to OEM Part Number, Product specific battery packs Secondary Spec/Compatibility, Product specific battery packs Secondary Spec/Post-consumer-waste%, Product specific battery packs Secondary Spec/Energy Star, Product specific battery packs Secondary Spec/Application or Usage#0, Product specific battery packs Secondary Spec/Battery Size#0, Product specific battery packs Secondary Spec/Battery Capacity#0/Display Value, Product specific battery packs Secondary Spec/Battery Capacity#0/Absolute Value, Product specific battery packs Secondary Spec/Battery Capacity#0/UOM, Product specific battery packs Secondary Spec/Battery Energy/Display Value, Product specific battery packs Secondary Spec/Battery Energy/Absolute Value, Product specific battery packs Secondary Spec/Battery Energy/UOM, Product specific battery packs Secondary Spec/Output Voltage#0/Display Value, Product specific battery packs Secondary Spec/Output Voltage#0/Absolute Value, Product specific battery packs Secondary Spec/Output Voltage#0/UOM, Product specific battery packs Secondary Spec/Maximum Battery Run Time/Display Value, Product specific battery packs Secondary Spec/Maximum Battery Run Time/Absolute Value, Product specific battery packs Secondary Spec/Maximum Battery Run Time/UOM, Product specific battery packs Secondary Spec/Maximum Battery Recharge Time/Display Value, Product specific battery packs Secondary Spec/Maximum Battery Recharge Time/Absolute Value, Product specific battery packs Secondary Spec/Maximum Battery Recharge Time/UOM, Product specific battery packs Secondary Spec/Height/Display Value, Product specific battery packs Secondary Spec/Height/Absolute Value, Product specific battery packs Secondary Spec/Height/UOM, Product specific battery packs Secondary Spec/Width/Display Value, Product specific battery packs Secondary Spec/Width/Absolute Value, Product specific battery packs Secondary Spec/Width/UOM, Product specific battery packs Secondary Spec/Depth/Display Value, Product specific battery packs Secondary Spec/Depth/Absolute Value, Product specific battery packs Secondary Spec/Depth/UOM, Product specific battery packs Secondary Spec/Weight _Approximate_#0/Display Value, Product specific battery packs Secondary Spec/Weight _Approximate_#0/Absolute Value, Product specific battery packs Secondary Spec/Weight _Approximate_#0/UOM, Random access memory RAM Secondary Spec/Memory Technology, Random access memory RAM Secondary Spec/Memory Standard, Random access memory RAM Secondary Spec/Memory Rank, Random access memory RAM Secondary Spec/Error Checking, Random access memory RAM Secondary Spec/CAS Latency, Random access memory RAM Secondary Spec/Rugged, Random access memory RAM Secondary Spec/Number of Pins, Random access memory RAM Secondary Spec/Form Factor, Random access memory RAM Secondary Spec/Compatibility, Random access memory RAM Secondary Spec/Energy Star, Random access memory RAM Secondary Spec/TCO Certified, Random access memory RAM Secondary Spec/Memory Size/Display Value, Random access memory RAM Secondary Spec/Memory Size/Absolute Value, Random access memory RAM Secondary Spec/Memory Size/UOM, Random access memory RAM Secondary Spec/Memory Voltage/Display Value, Random access memory RAM Secondary Spec/Memory Voltage/Absolute Value, Random access memory RAM Secondary Spec/Memory Voltage/UOM, Random access memory RAM Secondary Spec/Number of Modules#0, Random access memory RAM Secondary Spec/Memory Speed/Display Value, Random access memory RAM Secondary Spec/Memory Speed/Absolute Value, Random access memory RAM Secondary Spec/Memory Speed/UOM, Random access memory RAM Secondary Spec/Signal Processing#0, Random access memory RAM Secondary Spec/Device Supported#0, Random access memory RAM Secondary Spec/Thickness/Display Value, Random access memory RAM Secondary Spec/Thickness/Absolute Value, Random access memory RAM Secondary Spec/Thickness/UOM, Random access memory RAM Secondary Spec/Width/Display Value, Random access memory RAM Secondary Spec/Width/Absolute Value, Random access memory RAM Secondary Spec/Width/UOM, Random access memory RAM Secondary Spec/Length/Display Value, Random access memory RAM Secondary Spec/Length/Absolute Value, Random access memory RAM Secondary Spec/Length/UOM, Random access memory RAM Secondary Spec/Weight _Approximate_#0/Display Value, Random access memory RAM Secondary Spec/Weight _Approximate_#0/Absolute Value, Random access memory RAM Secondary Spec/Weight _Approximate_#0/UOM, Flash memory Secondary Spec/Speed Class Rating, Flash memory Secondary Spec/Video Speed Class, Flash memory Secondary Spec/Application Performance Class, Flash memory Secondary Spec/Near Field Communication, Flash memory Secondary Spec/Wireless LAN, Flash memory Secondary Spec/Energy Star, Flash memory Secondary Spec/TCO Certified, Flash memory Secondary Spec/Storage Capacity/Display Value, Flash memory Secondary Spec/Storage Capacity/Absolute Value, Flash memory Secondary Spec/Storage Capacity/UOM, Flash memory Secondary Spec/Memory Speed/Display Value, Flash memory Secondary Spec/Memory Speed/Absolute Value, Flash memory Secondary Spec/Memory Speed/UOM, Flash memory Secondary Spec/Maximum Read Speed/Display Value, Flash memory Secondary Spec/Maximum Read Speed/Absolute Value, Flash memory Secondary Spec/Maximum Read Speed/UOM, Flash memory Secondary Spec/Maximum Write Speed/Display Value, Flash memory Secondary Spec/Maximum Write Speed/Absolute Value, Flash memory Secondary Spec/Maximum Write Speed/UOM, Flash memory Secondary Spec/Data Transfer Rate/Display Value, Flash memory Secondary Spec/Data Transfer Rate/Absolute Value, Flash memory Secondary Spec/Data Transfer Rate/UOM, Flash memory Secondary Spec/Width/Display Value, Flash memory Secondary Spec/Width/Absolute Value, Flash memory Secondary Spec/Width/UOM, Flash memory Secondary Spec/Thickness/Display Value, Flash memory Secondary Spec/Thickness/Absolute Value, ...]\n",
       "Index: []\n",
       "\n",
       "[0 rows x 2079 columns]"
      ]
     },
     "execution_count": 31,
     "metadata": {},
     "output_type": "execute_result"
    }
   ],
   "source": [
    "a.head()"
   ]
  },
  {
   "cell_type": "code",
   "execution_count": 32,
   "id": "4b4446f4-1b78-46a2-bea0-8a93b38a6970",
   "metadata": {
    "id": "4b4446f4-1b78-46a2-bea0-8a93b38a6970"
   },
   "outputs": [
    {
     "data": {
      "text/plain": [
       "Product specific battery packs Secondary Spec/Battery Rechargeable                   True\n",
       "Product specific battery packs Secondary Spec/Battery Chemistry                      True\n",
       "Product specific battery packs Secondary Spec/Number of Cells                        True\n",
       "Product specific battery packs Secondary Spec/Maximum Battery Recharge Life Cycle    True\n",
       "Product specific battery packs Secondary Spec/Rugged                                 True\n",
       "                                                                                     ... \n",
       "Scissors Secondary Spec/Shipping Weight _Approximate_/UOM                            True\n",
       "Scissors Secondary Spec/Recycled Content#0                                           True\n",
       "Web cameras Secondary Spec/Color#1                                                   True\n",
       "Web cameras Secondary Spec/Device Supported#1                                        True\n",
       "Web cameras Secondary Spec/Device Supported#2                                        True\n",
       "Length: 2079, dtype: bool"
      ]
     },
     "execution_count": 32,
     "metadata": {},
     "output_type": "execute_result"
    }
   ],
   "source": [
    "a.notnull().all()"
   ]
  },
  {
   "cell_type": "markdown",
   "id": "27930fe5-c6c3-46f3-91cb-dffe27d03116",
   "metadata": {},
   "source": [
    "## Finding out the values for all the secondary specs columns having not null entries"
   ]
  },
  {
   "cell_type": "code",
   "execution_count": 33,
   "id": "e50fd88d-ee8d-4a3c-8ea6-d146effa34cd",
   "metadata": {
    "id": "e50fd88d-ee8d-4a3c-8ea6-d146effa34cd"
   },
   "outputs": [
    {
     "data": {
      "text/plain": [
       "array([], dtype=float64)"
      ]
     },
     "execution_count": 33,
     "metadata": {},
     "output_type": "execute_result"
    }
   ],
   "source": [
    "a1 = a['Product specific battery packs Secondary Spec/Battery Chemistry'].unique()\n",
    "a1"
   ]
  },
  {
   "cell_type": "code",
   "execution_count": 34,
   "id": "621f83f1-9fa7-4276-9893-4f3d6a73a738",
   "metadata": {},
   "outputs": [
    {
     "data": {
      "text/plain": [
       "array([], dtype=float64)"
      ]
     },
     "execution_count": 34,
     "metadata": {},
     "output_type": "execute_result"
    }
   ],
   "source": [
    "a2 = a['Product specific battery packs Secondary Spec/Battery Rechargeable'].unique()\n",
    "a2"
   ]
  },
  {
   "cell_type": "code",
   "execution_count": 35,
   "id": "a83031a1-2b46-47ba-9ad6-f68bdab76ca8",
   "metadata": {},
   "outputs": [
    {
     "data": {
      "text/plain": [
       "array([], dtype=float64)"
      ]
     },
     "execution_count": 35,
     "metadata": {},
     "output_type": "execute_result"
    }
   ],
   "source": [
    "a3 = a['Product specific battery packs Secondary Spec/Number of Cells'].unique()\n",
    "a3"
   ]
  },
  {
   "cell_type": "code",
   "execution_count": 36,
   "id": "bed96920-cff3-4c04-904e-59a85f35137c",
   "metadata": {},
   "outputs": [
    {
     "data": {
      "text/plain": [
       "array([], dtype=float64)"
      ]
     },
     "execution_count": 36,
     "metadata": {},
     "output_type": "execute_result"
    }
   ],
   "source": [
    "a4 = a['Product specific battery packs Secondary Spec/Maximum Battery Recharge Life Cycle'].unique()\n",
    "a4"
   ]
  },
  {
   "cell_type": "code",
   "execution_count": 37,
   "id": "6f741106-bd18-40ea-945b-7dcff2b1ac13",
   "metadata": {},
   "outputs": [
    {
     "data": {
      "text/plain": [
       "array([], dtype=float64)"
      ]
     },
     "execution_count": 37,
     "metadata": {},
     "output_type": "execute_result"
    }
   ],
   "source": [
    "a5 = a['Product specific battery packs Secondary Spec/Rugged'].unique()\n",
    "a5"
   ]
  },
  {
   "cell_type": "code",
   "execution_count": 38,
   "id": "4dd3e43c-236b-4f3f-be0a-f105b42ce9bf",
   "metadata": {},
   "outputs": [
    {
     "data": {
      "text/plain": [
       "array([], dtype=float64)"
      ]
     },
     "execution_count": 38,
     "metadata": {},
     "output_type": "execute_result"
    }
   ],
   "source": [
    "a6 = a['Scissors Secondary Spec/Shipping Weight _Approximate_/UOM'].unique()\n",
    "a6"
   ]
  },
  {
   "cell_type": "code",
   "execution_count": 39,
   "id": "3297ab0f-2c40-4934-8a0f-069dbb104d69",
   "metadata": {},
   "outputs": [
    {
     "data": {
      "text/plain": [
       "array([], dtype=float64)"
      ]
     },
     "execution_count": 39,
     "metadata": {},
     "output_type": "execute_result"
    }
   ],
   "source": [
    "a7 = a['Scissors Secondary Spec/Recycled Content#0'].unique()\n",
    "a7"
   ]
  },
  {
   "cell_type": "code",
   "execution_count": 40,
   "id": "9141b83e-077b-4509-b984-6f60ac6f3033",
   "metadata": {},
   "outputs": [
    {
     "data": {
      "text/plain": [
       "array([], dtype=object)"
      ]
     },
     "execution_count": 40,
     "metadata": {},
     "output_type": "execute_result"
    }
   ],
   "source": [
    "a8 = a['Web cameras Secondary Spec/Color#1'].unique()\n",
    "a8"
   ]
  },
  {
   "cell_type": "code",
   "execution_count": 41,
   "id": "19335633-fbc0-4071-b954-5b82e84c06c7",
   "metadata": {},
   "outputs": [
    {
     "data": {
      "text/plain": [
       "array([], dtype=object)"
      ]
     },
     "execution_count": 41,
     "metadata": {},
     "output_type": "execute_result"
    }
   ],
   "source": [
    "a9 = a['Web cameras Secondary Spec/Device Supported#1'].unique()\n",
    "a9"
   ]
  },
  {
   "cell_type": "code",
   "execution_count": 42,
   "id": "e41ea90f-c62b-4fb7-b3c2-719b4c7a92ce",
   "metadata": {},
   "outputs": [
    {
     "data": {
      "text/plain": [
       "array([], dtype=object)"
      ]
     },
     "execution_count": 42,
     "metadata": {},
     "output_type": "execute_result"
    }
   ],
   "source": [
    "a10 = a['Web cameras Secondary Spec/Device Supported#2'].unique()\n",
    "a10"
   ]
  },
  {
   "cell_type": "markdown",
   "id": "80aecb15-62e7-46a8-8a90-bf71dc421f55",
   "metadata": {
    "id": "80aecb15-62e7-46a8-8a90-bf71dc421f55",
    "tags": []
   },
   "source": [
    "## 2) 43211503"
   ]
  },
  {
   "cell_type": "code",
   "execution_count": 43,
   "id": "8e92fc23-baf1-4bbe-8d2f-b5b4e3afbcff",
   "metadata": {
    "id": "8e92fc23-baf1-4bbe-8d2f-b5b4e3afbcff"
   },
   "outputs": [],
   "source": [
    "b = df_POOIM_Export[df_POOIM_Export['POOIM Primary Spec/Category'] == 43211503]\n",
    "# print(b.columns)\n",
    "# Filter only the secondary spec columns from the POOIM catalog file\n",
    "Secondary_spec_col=[]\n",
    "for col in b.columns:\n",
    "    if 'Secondary Spec' in col:\n",
    "        Secondary_spec_col.append(col)\n",
    "        # display(b)\n",
    "# print(\"All the secondary Spec columns: \", Secondary_spec_col)\n",
    "\n",
    "b = b.filter(regex='Secondary*')\n",
    "# print(b.columns)"
   ]
  },
  {
   "cell_type": "code",
   "execution_count": 44,
   "id": "8bf6eedc-848d-41c9-bd0d-6f495d2ecf39",
   "metadata": {
    "id": "8bf6eedc-848d-41c9-bd0d-6f495d2ecf39"
   },
   "outputs": [
    {
     "name": "stdout",
     "output_type": "stream",
     "text": [
      "Product specific battery packs Secondary Spec/Battery Rechargeable                   0\n",
      "Product specific battery packs Secondary Spec/Battery Chemistry                      0\n",
      "Product specific battery packs Secondary Spec/Number of Cells                        0\n",
      "Product specific battery packs Secondary Spec/Maximum Battery Recharge Life Cycle    0\n",
      "Product specific battery packs Secondary Spec/Rugged                                 0\n",
      "                                                                                    ..\n",
      "Scissors Secondary Spec/Shipping Weight _Approximate_/UOM                            0\n",
      "Scissors Secondary Spec/Recycled Content#0                                           0\n",
      "Web cameras Secondary Spec/Color#1                                                   0\n",
      "Web cameras Secondary Spec/Device Supported#1                                        0\n",
      "Web cameras Secondary Spec/Device Supported#2                                        0\n",
      "Length: 2079, dtype: int64\n"
     ]
    }
   ],
   "source": [
    "## Find the unique values for every secondary specs\n",
    "print(b.T.apply(lambda x: x.nunique(dropna=True), axis=1))"
   ]
  },
  {
   "cell_type": "code",
   "execution_count": 45,
   "id": "c358c80c-b384-4e3d-8271-1de7a9848553",
   "metadata": {
    "id": "c358c80c-b384-4e3d-8271-1de7a9848553"
   },
   "outputs": [
    {
     "data": {
      "text/plain": [
       "1524"
      ]
     },
     "execution_count": 45,
     "metadata": {},
     "output_type": "execute_result"
    }
   ],
   "source": [
    "b.notnull().sum().sum()"
   ]
  },
  {
   "cell_type": "code",
   "execution_count": 46,
   "id": "3390a7e2-96a7-4a42-84ab-1da6131f24d0",
   "metadata": {
    "id": "3390a7e2-96a7-4a42-84ab-1da6131f24d0"
   },
   "outputs": [
    {
     "data": {
      "text/html": [
       "<div>\n",
       "<style scoped>\n",
       "    .dataframe tbody tr th:only-of-type {\n",
       "        vertical-align: middle;\n",
       "    }\n",
       "\n",
       "    .dataframe tbody tr th {\n",
       "        vertical-align: top;\n",
       "    }\n",
       "\n",
       "    .dataframe thead th {\n",
       "        text-align: right;\n",
       "    }\n",
       "</style>\n",
       "<table border=\"1\" class=\"dataframe\">\n",
       "  <thead>\n",
       "    <tr style=\"text-align: right;\">\n",
       "      <th></th>\n",
       "      <th>Product specific battery packs Secondary Spec/Battery Rechargeable</th>\n",
       "      <th>Product specific battery packs Secondary Spec/Battery Chemistry</th>\n",
       "      <th>Product specific battery packs Secondary Spec/Number of Cells</th>\n",
       "      <th>Product specific battery packs Secondary Spec/Maximum Battery Recharge Life Cycle</th>\n",
       "      <th>Product specific battery packs Secondary Spec/Rugged</th>\n",
       "      <th>Product specific battery packs Secondary Spec/Compatible to OEM Part Number</th>\n",
       "      <th>Product specific battery packs Secondary Spec/Compatibility</th>\n",
       "      <th>Product specific battery packs Secondary Spec/Post-consumer-waste%</th>\n",
       "      <th>Product specific battery packs Secondary Spec/Energy Star</th>\n",
       "      <th>Product specific battery packs Secondary Spec/Application or Usage#0</th>\n",
       "      <th>...</th>\n",
       "      <th>Scissors Secondary Spec/Shipping Depth/Display Value</th>\n",
       "      <th>Scissors Secondary Spec/Shipping Depth/Absolute Value</th>\n",
       "      <th>Scissors Secondary Spec/Shipping Depth/UOM</th>\n",
       "      <th>Scissors Secondary Spec/Shipping Weight _Approximate_/Display Value</th>\n",
       "      <th>Scissors Secondary Spec/Shipping Weight _Approximate_/Absolute Value</th>\n",
       "      <th>Scissors Secondary Spec/Shipping Weight _Approximate_/UOM</th>\n",
       "      <th>Scissors Secondary Spec/Recycled Content#0</th>\n",
       "      <th>Web cameras Secondary Spec/Color#1</th>\n",
       "      <th>Web cameras Secondary Spec/Device Supported#1</th>\n",
       "      <th>Web cameras Secondary Spec/Device Supported#2</th>\n",
       "    </tr>\n",
       "  </thead>\n",
       "  <tbody>\n",
       "    <tr>\n",
       "      <th>356</th>\n",
       "      <td>False</td>\n",
       "      <td>False</td>\n",
       "      <td>False</td>\n",
       "      <td>False</td>\n",
       "      <td>False</td>\n",
       "      <td>False</td>\n",
       "      <td>False</td>\n",
       "      <td>False</td>\n",
       "      <td>False</td>\n",
       "      <td>False</td>\n",
       "      <td>...</td>\n",
       "      <td>False</td>\n",
       "      <td>False</td>\n",
       "      <td>False</td>\n",
       "      <td>False</td>\n",
       "      <td>False</td>\n",
       "      <td>False</td>\n",
       "      <td>False</td>\n",
       "      <td>False</td>\n",
       "      <td>False</td>\n",
       "      <td>False</td>\n",
       "    </tr>\n",
       "    <tr>\n",
       "      <th>378</th>\n",
       "      <td>False</td>\n",
       "      <td>False</td>\n",
       "      <td>False</td>\n",
       "      <td>False</td>\n",
       "      <td>False</td>\n",
       "      <td>False</td>\n",
       "      <td>False</td>\n",
       "      <td>False</td>\n",
       "      <td>False</td>\n",
       "      <td>False</td>\n",
       "      <td>...</td>\n",
       "      <td>False</td>\n",
       "      <td>False</td>\n",
       "      <td>False</td>\n",
       "      <td>False</td>\n",
       "      <td>False</td>\n",
       "      <td>False</td>\n",
       "      <td>False</td>\n",
       "      <td>False</td>\n",
       "      <td>False</td>\n",
       "      <td>False</td>\n",
       "    </tr>\n",
       "    <tr>\n",
       "      <th>0</th>\n",
       "      <td>False</td>\n",
       "      <td>False</td>\n",
       "      <td>False</td>\n",
       "      <td>False</td>\n",
       "      <td>False</td>\n",
       "      <td>False</td>\n",
       "      <td>False</td>\n",
       "      <td>False</td>\n",
       "      <td>False</td>\n",
       "      <td>False</td>\n",
       "      <td>...</td>\n",
       "      <td>False</td>\n",
       "      <td>False</td>\n",
       "      <td>False</td>\n",
       "      <td>False</td>\n",
       "      <td>False</td>\n",
       "      <td>False</td>\n",
       "      <td>False</td>\n",
       "      <td>False</td>\n",
       "      <td>False</td>\n",
       "      <td>False</td>\n",
       "    </tr>\n",
       "    <tr>\n",
       "      <th>1</th>\n",
       "      <td>False</td>\n",
       "      <td>False</td>\n",
       "      <td>False</td>\n",
       "      <td>False</td>\n",
       "      <td>False</td>\n",
       "      <td>False</td>\n",
       "      <td>False</td>\n",
       "      <td>False</td>\n",
       "      <td>False</td>\n",
       "      <td>False</td>\n",
       "      <td>...</td>\n",
       "      <td>False</td>\n",
       "      <td>False</td>\n",
       "      <td>False</td>\n",
       "      <td>False</td>\n",
       "      <td>False</td>\n",
       "      <td>False</td>\n",
       "      <td>False</td>\n",
       "      <td>False</td>\n",
       "      <td>False</td>\n",
       "      <td>False</td>\n",
       "    </tr>\n",
       "    <tr>\n",
       "      <th>2</th>\n",
       "      <td>False</td>\n",
       "      <td>False</td>\n",
       "      <td>False</td>\n",
       "      <td>False</td>\n",
       "      <td>False</td>\n",
       "      <td>False</td>\n",
       "      <td>False</td>\n",
       "      <td>False</td>\n",
       "      <td>False</td>\n",
       "      <td>False</td>\n",
       "      <td>...</td>\n",
       "      <td>False</td>\n",
       "      <td>False</td>\n",
       "      <td>False</td>\n",
       "      <td>False</td>\n",
       "      <td>False</td>\n",
       "      <td>False</td>\n",
       "      <td>False</td>\n",
       "      <td>False</td>\n",
       "      <td>False</td>\n",
       "      <td>False</td>\n",
       "    </tr>\n",
       "    <tr>\n",
       "      <th>...</th>\n",
       "      <td>...</td>\n",
       "      <td>...</td>\n",
       "      <td>...</td>\n",
       "      <td>...</td>\n",
       "      <td>...</td>\n",
       "      <td>...</td>\n",
       "      <td>...</td>\n",
       "      <td>...</td>\n",
       "      <td>...</td>\n",
       "      <td>...</td>\n",
       "      <td>...</td>\n",
       "      <td>...</td>\n",
       "      <td>...</td>\n",
       "      <td>...</td>\n",
       "      <td>...</td>\n",
       "      <td>...</td>\n",
       "      <td>...</td>\n",
       "      <td>...</td>\n",
       "      <td>...</td>\n",
       "      <td>...</td>\n",
       "      <td>...</td>\n",
       "    </tr>\n",
       "    <tr>\n",
       "      <th>495</th>\n",
       "      <td>False</td>\n",
       "      <td>False</td>\n",
       "      <td>False</td>\n",
       "      <td>False</td>\n",
       "      <td>False</td>\n",
       "      <td>False</td>\n",
       "      <td>False</td>\n",
       "      <td>False</td>\n",
       "      <td>False</td>\n",
       "      <td>False</td>\n",
       "      <td>...</td>\n",
       "      <td>False</td>\n",
       "      <td>False</td>\n",
       "      <td>False</td>\n",
       "      <td>False</td>\n",
       "      <td>False</td>\n",
       "      <td>False</td>\n",
       "      <td>False</td>\n",
       "      <td>False</td>\n",
       "      <td>False</td>\n",
       "      <td>False</td>\n",
       "    </tr>\n",
       "    <tr>\n",
       "      <th>496</th>\n",
       "      <td>False</td>\n",
       "      <td>False</td>\n",
       "      <td>False</td>\n",
       "      <td>False</td>\n",
       "      <td>False</td>\n",
       "      <td>False</td>\n",
       "      <td>False</td>\n",
       "      <td>False</td>\n",
       "      <td>False</td>\n",
       "      <td>False</td>\n",
       "      <td>...</td>\n",
       "      <td>False</td>\n",
       "      <td>False</td>\n",
       "      <td>False</td>\n",
       "      <td>False</td>\n",
       "      <td>False</td>\n",
       "      <td>False</td>\n",
       "      <td>False</td>\n",
       "      <td>False</td>\n",
       "      <td>False</td>\n",
       "      <td>False</td>\n",
       "    </tr>\n",
       "    <tr>\n",
       "      <th>497</th>\n",
       "      <td>False</td>\n",
       "      <td>False</td>\n",
       "      <td>False</td>\n",
       "      <td>False</td>\n",
       "      <td>False</td>\n",
       "      <td>False</td>\n",
       "      <td>False</td>\n",
       "      <td>False</td>\n",
       "      <td>False</td>\n",
       "      <td>False</td>\n",
       "      <td>...</td>\n",
       "      <td>False</td>\n",
       "      <td>False</td>\n",
       "      <td>False</td>\n",
       "      <td>False</td>\n",
       "      <td>False</td>\n",
       "      <td>False</td>\n",
       "      <td>False</td>\n",
       "      <td>False</td>\n",
       "      <td>False</td>\n",
       "      <td>False</td>\n",
       "    </tr>\n",
       "    <tr>\n",
       "      <th>498</th>\n",
       "      <td>False</td>\n",
       "      <td>False</td>\n",
       "      <td>False</td>\n",
       "      <td>False</td>\n",
       "      <td>False</td>\n",
       "      <td>False</td>\n",
       "      <td>False</td>\n",
       "      <td>False</td>\n",
       "      <td>False</td>\n",
       "      <td>False</td>\n",
       "      <td>...</td>\n",
       "      <td>False</td>\n",
       "      <td>False</td>\n",
       "      <td>False</td>\n",
       "      <td>False</td>\n",
       "      <td>False</td>\n",
       "      <td>False</td>\n",
       "      <td>False</td>\n",
       "      <td>False</td>\n",
       "      <td>False</td>\n",
       "      <td>False</td>\n",
       "    </tr>\n",
       "    <tr>\n",
       "      <th>499</th>\n",
       "      <td>False</td>\n",
       "      <td>False</td>\n",
       "      <td>False</td>\n",
       "      <td>False</td>\n",
       "      <td>False</td>\n",
       "      <td>False</td>\n",
       "      <td>False</td>\n",
       "      <td>False</td>\n",
       "      <td>False</td>\n",
       "      <td>False</td>\n",
       "      <td>...</td>\n",
       "      <td>False</td>\n",
       "      <td>False</td>\n",
       "      <td>False</td>\n",
       "      <td>False</td>\n",
       "      <td>False</td>\n",
       "      <td>False</td>\n",
       "      <td>False</td>\n",
       "      <td>False</td>\n",
       "      <td>False</td>\n",
       "      <td>False</td>\n",
       "    </tr>\n",
       "  </tbody>\n",
       "</table>\n",
       "<p>1002 rows × 2079 columns</p>\n",
       "</div>"
      ],
      "text/plain": [
       "     Product specific battery packs Secondary Spec/Battery Rechargeable  \\\n",
       "356                                              False                    \n",
       "378                                              False                    \n",
       "0                                                False                    \n",
       "1                                                False                    \n",
       "2                                                False                    \n",
       "..                                                 ...                    \n",
       "495                                              False                    \n",
       "496                                              False                    \n",
       "497                                              False                    \n",
       "498                                              False                    \n",
       "499                                              False                    \n",
       "\n",
       "     Product specific battery packs Secondary Spec/Battery Chemistry  \\\n",
       "356                                              False                 \n",
       "378                                              False                 \n",
       "0                                                False                 \n",
       "1                                                False                 \n",
       "2                                                False                 \n",
       "..                                                 ...                 \n",
       "495                                              False                 \n",
       "496                                              False                 \n",
       "497                                              False                 \n",
       "498                                              False                 \n",
       "499                                              False                 \n",
       "\n",
       "     Product specific battery packs Secondary Spec/Number of Cells  \\\n",
       "356                                              False               \n",
       "378                                              False               \n",
       "0                                                False               \n",
       "1                                                False               \n",
       "2                                                False               \n",
       "..                                                 ...               \n",
       "495                                              False               \n",
       "496                                              False               \n",
       "497                                              False               \n",
       "498                                              False               \n",
       "499                                              False               \n",
       "\n",
       "     Product specific battery packs Secondary Spec/Maximum Battery Recharge Life Cycle  \\\n",
       "356                                              False                                   \n",
       "378                                              False                                   \n",
       "0                                                False                                   \n",
       "1                                                False                                   \n",
       "2                                                False                                   \n",
       "..                                                 ...                                   \n",
       "495                                              False                                   \n",
       "496                                              False                                   \n",
       "497                                              False                                   \n",
       "498                                              False                                   \n",
       "499                                              False                                   \n",
       "\n",
       "     Product specific battery packs Secondary Spec/Rugged  \\\n",
       "356                                              False      \n",
       "378                                              False      \n",
       "0                                                False      \n",
       "1                                                False      \n",
       "2                                                False      \n",
       "..                                                 ...      \n",
       "495                                              False      \n",
       "496                                              False      \n",
       "497                                              False      \n",
       "498                                              False      \n",
       "499                                              False      \n",
       "\n",
       "     Product specific battery packs Secondary Spec/Compatible to OEM Part Number  \\\n",
       "356                                              False                             \n",
       "378                                              False                             \n",
       "0                                                False                             \n",
       "1                                                False                             \n",
       "2                                                False                             \n",
       "..                                                 ...                             \n",
       "495                                              False                             \n",
       "496                                              False                             \n",
       "497                                              False                             \n",
       "498                                              False                             \n",
       "499                                              False                             \n",
       "\n",
       "     Product specific battery packs Secondary Spec/Compatibility  \\\n",
       "356                                              False             \n",
       "378                                              False             \n",
       "0                                                False             \n",
       "1                                                False             \n",
       "2                                                False             \n",
       "..                                                 ...             \n",
       "495                                              False             \n",
       "496                                              False             \n",
       "497                                              False             \n",
       "498                                              False             \n",
       "499                                              False             \n",
       "\n",
       "     Product specific battery packs Secondary Spec/Post-consumer-waste%  \\\n",
       "356                                              False                    \n",
       "378                                              False                    \n",
       "0                                                False                    \n",
       "1                                                False                    \n",
       "2                                                False                    \n",
       "..                                                 ...                    \n",
       "495                                              False                    \n",
       "496                                              False                    \n",
       "497                                              False                    \n",
       "498                                              False                    \n",
       "499                                              False                    \n",
       "\n",
       "     Product specific battery packs Secondary Spec/Energy Star  \\\n",
       "356                                              False           \n",
       "378                                              False           \n",
       "0                                                False           \n",
       "1                                                False           \n",
       "2                                                False           \n",
       "..                                                 ...           \n",
       "495                                              False           \n",
       "496                                              False           \n",
       "497                                              False           \n",
       "498                                              False           \n",
       "499                                              False           \n",
       "\n",
       "     Product specific battery packs Secondary Spec/Application or Usage#0  \\\n",
       "356                                              False                      \n",
       "378                                              False                      \n",
       "0                                                False                      \n",
       "1                                                False                      \n",
       "2                                                False                      \n",
       "..                                                 ...                      \n",
       "495                                              False                      \n",
       "496                                              False                      \n",
       "497                                              False                      \n",
       "498                                              False                      \n",
       "499                                              False                      \n",
       "\n",
       "     ...  Scissors Secondary Spec/Shipping Depth/Display Value  \\\n",
       "356  ...                                              False      \n",
       "378  ...                                              False      \n",
       "0    ...                                              False      \n",
       "1    ...                                              False      \n",
       "2    ...                                              False      \n",
       "..   ...                                                ...      \n",
       "495  ...                                              False      \n",
       "496  ...                                              False      \n",
       "497  ...                                              False      \n",
       "498  ...                                              False      \n",
       "499  ...                                              False      \n",
       "\n",
       "     Scissors Secondary Spec/Shipping Depth/Absolute Value  \\\n",
       "356                                              False       \n",
       "378                                              False       \n",
       "0                                                False       \n",
       "1                                                False       \n",
       "2                                                False       \n",
       "..                                                 ...       \n",
       "495                                              False       \n",
       "496                                              False       \n",
       "497                                              False       \n",
       "498                                              False       \n",
       "499                                              False       \n",
       "\n",
       "     Scissors Secondary Spec/Shipping Depth/UOM  \\\n",
       "356                                       False   \n",
       "378                                       False   \n",
       "0                                         False   \n",
       "1                                         False   \n",
       "2                                         False   \n",
       "..                                          ...   \n",
       "495                                       False   \n",
       "496                                       False   \n",
       "497                                       False   \n",
       "498                                       False   \n",
       "499                                       False   \n",
       "\n",
       "     Scissors Secondary Spec/Shipping Weight _Approximate_/Display Value  \\\n",
       "356                                              False                     \n",
       "378                                              False                     \n",
       "0                                                False                     \n",
       "1                                                False                     \n",
       "2                                                False                     \n",
       "..                                                 ...                     \n",
       "495                                              False                     \n",
       "496                                              False                     \n",
       "497                                              False                     \n",
       "498                                              False                     \n",
       "499                                              False                     \n",
       "\n",
       "     Scissors Secondary Spec/Shipping Weight _Approximate_/Absolute Value  \\\n",
       "356                                              False                      \n",
       "378                                              False                      \n",
       "0                                                False                      \n",
       "1                                                False                      \n",
       "2                                                False                      \n",
       "..                                                 ...                      \n",
       "495                                              False                      \n",
       "496                                              False                      \n",
       "497                                              False                      \n",
       "498                                              False                      \n",
       "499                                              False                      \n",
       "\n",
       "     Scissors Secondary Spec/Shipping Weight _Approximate_/UOM  \\\n",
       "356                                              False           \n",
       "378                                              False           \n",
       "0                                                False           \n",
       "1                                                False           \n",
       "2                                                False           \n",
       "..                                                 ...           \n",
       "495                                              False           \n",
       "496                                              False           \n",
       "497                                              False           \n",
       "498                                              False           \n",
       "499                                              False           \n",
       "\n",
       "     Scissors Secondary Spec/Recycled Content#0  \\\n",
       "356                                       False   \n",
       "378                                       False   \n",
       "0                                         False   \n",
       "1                                         False   \n",
       "2                                         False   \n",
       "..                                          ...   \n",
       "495                                       False   \n",
       "496                                       False   \n",
       "497                                       False   \n",
       "498                                       False   \n",
       "499                                       False   \n",
       "\n",
       "     Web cameras Secondary Spec/Color#1  \\\n",
       "356                               False   \n",
       "378                               False   \n",
       "0                                 False   \n",
       "1                                 False   \n",
       "2                                 False   \n",
       "..                                  ...   \n",
       "495                               False   \n",
       "496                               False   \n",
       "497                               False   \n",
       "498                               False   \n",
       "499                               False   \n",
       "\n",
       "     Web cameras Secondary Spec/Device Supported#1  \\\n",
       "356                                          False   \n",
       "378                                          False   \n",
       "0                                            False   \n",
       "1                                            False   \n",
       "2                                            False   \n",
       "..                                             ...   \n",
       "495                                          False   \n",
       "496                                          False   \n",
       "497                                          False   \n",
       "498                                          False   \n",
       "499                                          False   \n",
       "\n",
       "     Web cameras Secondary Spec/Device Supported#2  \n",
       "356                                          False  \n",
       "378                                          False  \n",
       "0                                            False  \n",
       "1                                            False  \n",
       "2                                            False  \n",
       "..                                             ...  \n",
       "495                                          False  \n",
       "496                                          False  \n",
       "497                                          False  \n",
       "498                                          False  \n",
       "499                                          False  \n",
       "\n",
       "[1002 rows x 2079 columns]"
      ]
     },
     "execution_count": 46,
     "metadata": {},
     "output_type": "execute_result"
    }
   ],
   "source": [
    "b.notnull()"
   ]
  },
  {
   "cell_type": "code",
   "execution_count": 47,
   "id": "78f644f3-8ca1-4871-a4a6-49d21f097fdf",
   "metadata": {
    "id": "78f644f3-8ca1-4871-a4a6-49d21f097fdf"
   },
   "outputs": [
    {
     "data": {
      "text/plain": [
       "Product specific battery packs Secondary Spec/Battery Rechargeable                   0\n",
       "Product specific battery packs Secondary Spec/Battery Chemistry                      0\n",
       "Product specific battery packs Secondary Spec/Number of Cells                        0\n",
       "Product specific battery packs Secondary Spec/Maximum Battery Recharge Life Cycle    0\n",
       "Product specific battery packs Secondary Spec/Rugged                                 0\n",
       "                                                                                    ..\n",
       "Scissors Secondary Spec/Shipping Weight _Approximate_/UOM                            0\n",
       "Scissors Secondary Spec/Recycled Content#0                                           0\n",
       "Web cameras Secondary Spec/Color#1                                                   0\n",
       "Web cameras Secondary Spec/Device Supported#1                                        0\n",
       "Web cameras Secondary Spec/Device Supported#2                                        0\n",
       "Length: 2079, dtype: int64"
      ]
     },
     "execution_count": 47,
     "metadata": {},
     "output_type": "execute_result"
    }
   ],
   "source": [
    "b.T.apply(lambda x: x.nunique(dropna=True), axis=1)"
   ]
  },
  {
   "cell_type": "code",
   "execution_count": 48,
   "id": "7713c86b-1311-455c-8c88-34f588f024f0",
   "metadata": {
    "id": "7713c86b-1311-455c-8c88-34f588f024f0"
   },
   "outputs": [
    {
     "data": {
      "text/plain": [
       "0"
      ]
     },
     "execution_count": 48,
     "metadata": {},
     "output_type": "execute_result"
    }
   ],
   "source": [
    "b[\"Web cameras Secondary Spec/Color#1\"].nunique()"
   ]
  },
  {
   "cell_type": "code",
   "execution_count": 49,
   "id": "d88ed3a5-b300-43fd-b0b4-9241afe29f8b",
   "metadata": {
    "id": "d88ed3a5-b300-43fd-b0b4-9241afe29f8b"
   },
   "outputs": [
    {
     "data": {
      "text/html": [
       "<div>\n",
       "<style scoped>\n",
       "    .dataframe tbody tr th:only-of-type {\n",
       "        vertical-align: middle;\n",
       "    }\n",
       "\n",
       "    .dataframe tbody tr th {\n",
       "        vertical-align: top;\n",
       "    }\n",
       "\n",
       "    .dataframe thead th {\n",
       "        text-align: right;\n",
       "    }\n",
       "</style>\n",
       "<table border=\"1\" class=\"dataframe\">\n",
       "  <thead>\n",
       "    <tr style=\"text-align: right;\">\n",
       "      <th></th>\n",
       "      <th>Product specific battery packs Secondary Spec/Battery Rechargeable</th>\n",
       "      <th>Product specific battery packs Secondary Spec/Battery Chemistry</th>\n",
       "      <th>Product specific battery packs Secondary Spec/Number of Cells</th>\n",
       "      <th>Product specific battery packs Secondary Spec/Maximum Battery Recharge Life Cycle</th>\n",
       "      <th>Product specific battery packs Secondary Spec/Rugged</th>\n",
       "      <th>Product specific battery packs Secondary Spec/Compatible to OEM Part Number</th>\n",
       "      <th>Product specific battery packs Secondary Spec/Compatibility</th>\n",
       "      <th>Product specific battery packs Secondary Spec/Post-consumer-waste%</th>\n",
       "      <th>Product specific battery packs Secondary Spec/Energy Star</th>\n",
       "      <th>Product specific battery packs Secondary Spec/Application or Usage#0</th>\n",
       "      <th>...</th>\n",
       "      <th>Scissors Secondary Spec/Shipping Depth/Display Value</th>\n",
       "      <th>Scissors Secondary Spec/Shipping Depth/Absolute Value</th>\n",
       "      <th>Scissors Secondary Spec/Shipping Depth/UOM</th>\n",
       "      <th>Scissors Secondary Spec/Shipping Weight _Approximate_/Display Value</th>\n",
       "      <th>Scissors Secondary Spec/Shipping Weight _Approximate_/Absolute Value</th>\n",
       "      <th>Scissors Secondary Spec/Shipping Weight _Approximate_/UOM</th>\n",
       "      <th>Scissors Secondary Spec/Recycled Content#0</th>\n",
       "      <th>Web cameras Secondary Spec/Color#1</th>\n",
       "      <th>Web cameras Secondary Spec/Device Supported#1</th>\n",
       "      <th>Web cameras Secondary Spec/Device Supported#2</th>\n",
       "    </tr>\n",
       "  </thead>\n",
       "  <tbody>\n",
       "  </tbody>\n",
       "</table>\n",
       "<p>0 rows × 2079 columns</p>\n",
       "</div>"
      ],
      "text/plain": [
       "Empty DataFrame\n",
       "Columns: [Product specific battery packs Secondary Spec/Battery Rechargeable, Product specific battery packs Secondary Spec/Battery Chemistry, Product specific battery packs Secondary Spec/Number of Cells, Product specific battery packs Secondary Spec/Maximum Battery Recharge Life Cycle, Product specific battery packs Secondary Spec/Rugged, Product specific battery packs Secondary Spec/Compatible to OEM Part Number, Product specific battery packs Secondary Spec/Compatibility, Product specific battery packs Secondary Spec/Post-consumer-waste%, Product specific battery packs Secondary Spec/Energy Star, Product specific battery packs Secondary Spec/Application or Usage#0, Product specific battery packs Secondary Spec/Battery Size#0, Product specific battery packs Secondary Spec/Battery Capacity#0/Display Value, Product specific battery packs Secondary Spec/Battery Capacity#0/Absolute Value, Product specific battery packs Secondary Spec/Battery Capacity#0/UOM, Product specific battery packs Secondary Spec/Battery Energy/Display Value, Product specific battery packs Secondary Spec/Battery Energy/Absolute Value, Product specific battery packs Secondary Spec/Battery Energy/UOM, Product specific battery packs Secondary Spec/Output Voltage#0/Display Value, Product specific battery packs Secondary Spec/Output Voltage#0/Absolute Value, Product specific battery packs Secondary Spec/Output Voltage#0/UOM, Product specific battery packs Secondary Spec/Maximum Battery Run Time/Display Value, Product specific battery packs Secondary Spec/Maximum Battery Run Time/Absolute Value, Product specific battery packs Secondary Spec/Maximum Battery Run Time/UOM, Product specific battery packs Secondary Spec/Maximum Battery Recharge Time/Display Value, Product specific battery packs Secondary Spec/Maximum Battery Recharge Time/Absolute Value, Product specific battery packs Secondary Spec/Maximum Battery Recharge Time/UOM, Product specific battery packs Secondary Spec/Height/Display Value, Product specific battery packs Secondary Spec/Height/Absolute Value, Product specific battery packs Secondary Spec/Height/UOM, Product specific battery packs Secondary Spec/Width/Display Value, Product specific battery packs Secondary Spec/Width/Absolute Value, Product specific battery packs Secondary Spec/Width/UOM, Product specific battery packs Secondary Spec/Depth/Display Value, Product specific battery packs Secondary Spec/Depth/Absolute Value, Product specific battery packs Secondary Spec/Depth/UOM, Product specific battery packs Secondary Spec/Weight _Approximate_#0/Display Value, Product specific battery packs Secondary Spec/Weight _Approximate_#0/Absolute Value, Product specific battery packs Secondary Spec/Weight _Approximate_#0/UOM, Random access memory RAM Secondary Spec/Memory Technology, Random access memory RAM Secondary Spec/Memory Standard, Random access memory RAM Secondary Spec/Memory Rank, Random access memory RAM Secondary Spec/Error Checking, Random access memory RAM Secondary Spec/CAS Latency, Random access memory RAM Secondary Spec/Rugged, Random access memory RAM Secondary Spec/Number of Pins, Random access memory RAM Secondary Spec/Form Factor, Random access memory RAM Secondary Spec/Compatibility, Random access memory RAM Secondary Spec/Energy Star, Random access memory RAM Secondary Spec/TCO Certified, Random access memory RAM Secondary Spec/Memory Size/Display Value, Random access memory RAM Secondary Spec/Memory Size/Absolute Value, Random access memory RAM Secondary Spec/Memory Size/UOM, Random access memory RAM Secondary Spec/Memory Voltage/Display Value, Random access memory RAM Secondary Spec/Memory Voltage/Absolute Value, Random access memory RAM Secondary Spec/Memory Voltage/UOM, Random access memory RAM Secondary Spec/Number of Modules#0, Random access memory RAM Secondary Spec/Memory Speed/Display Value, Random access memory RAM Secondary Spec/Memory Speed/Absolute Value, Random access memory RAM Secondary Spec/Memory Speed/UOM, Random access memory RAM Secondary Spec/Signal Processing#0, Random access memory RAM Secondary Spec/Device Supported#0, Random access memory RAM Secondary Spec/Thickness/Display Value, Random access memory RAM Secondary Spec/Thickness/Absolute Value, Random access memory RAM Secondary Spec/Thickness/UOM, Random access memory RAM Secondary Spec/Width/Display Value, Random access memory RAM Secondary Spec/Width/Absolute Value, Random access memory RAM Secondary Spec/Width/UOM, Random access memory RAM Secondary Spec/Length/Display Value, Random access memory RAM Secondary Spec/Length/Absolute Value, Random access memory RAM Secondary Spec/Length/UOM, Random access memory RAM Secondary Spec/Weight _Approximate_#0/Display Value, Random access memory RAM Secondary Spec/Weight _Approximate_#0/Absolute Value, Random access memory RAM Secondary Spec/Weight _Approximate_#0/UOM, Flash memory Secondary Spec/Speed Class Rating, Flash memory Secondary Spec/Video Speed Class, Flash memory Secondary Spec/Application Performance Class, Flash memory Secondary Spec/Near Field Communication, Flash memory Secondary Spec/Wireless LAN, Flash memory Secondary Spec/Energy Star, Flash memory Secondary Spec/TCO Certified, Flash memory Secondary Spec/Storage Capacity/Display Value, Flash memory Secondary Spec/Storage Capacity/Absolute Value, Flash memory Secondary Spec/Storage Capacity/UOM, Flash memory Secondary Spec/Memory Speed/Display Value, Flash memory Secondary Spec/Memory Speed/Absolute Value, Flash memory Secondary Spec/Memory Speed/UOM, Flash memory Secondary Spec/Maximum Read Speed/Display Value, Flash memory Secondary Spec/Maximum Read Speed/Absolute Value, Flash memory Secondary Spec/Maximum Read Speed/UOM, Flash memory Secondary Spec/Maximum Write Speed/Display Value, Flash memory Secondary Spec/Maximum Write Speed/Absolute Value, Flash memory Secondary Spec/Maximum Write Speed/UOM, Flash memory Secondary Spec/Data Transfer Rate/Display Value, Flash memory Secondary Spec/Data Transfer Rate/Absolute Value, Flash memory Secondary Spec/Data Transfer Rate/UOM, Flash memory Secondary Spec/Width/Display Value, Flash memory Secondary Spec/Width/Absolute Value, Flash memory Secondary Spec/Width/UOM, Flash memory Secondary Spec/Thickness/Display Value, Flash memory Secondary Spec/Thickness/Absolute Value, ...]\n",
       "Index: []\n",
       "\n",
       "[0 rows x 2079 columns]"
      ]
     },
     "execution_count": 49,
     "metadata": {},
     "output_type": "execute_result"
    }
   ],
   "source": [
    "b = b.loc[b['Web cameras Secondary Spec/Color#1'].notnull()]\n",
    "b"
   ]
  },
  {
   "cell_type": "markdown",
   "id": "9e0b864b-99d4-4d4f-9b46-7b28f7939b95",
   "metadata": {},
   "source": [
    "## Dropping all the null values from the dataframe"
   ]
  },
  {
   "cell_type": "code",
   "execution_count": 50,
   "id": "0b422659-0629-433a-a9e8-7295e1a66141",
   "metadata": {},
   "outputs": [
    {
     "data": {
      "text/html": [
       "<div>\n",
       "<style scoped>\n",
       "    .dataframe tbody tr th:only-of-type {\n",
       "        vertical-align: middle;\n",
       "    }\n",
       "\n",
       "    .dataframe tbody tr th {\n",
       "        vertical-align: top;\n",
       "    }\n",
       "\n",
       "    .dataframe thead th {\n",
       "        text-align: right;\n",
       "    }\n",
       "</style>\n",
       "<table border=\"1\" class=\"dataframe\">\n",
       "  <thead>\n",
       "    <tr style=\"text-align: right;\">\n",
       "      <th></th>\n",
       "      <th>Product specific battery packs Secondary Spec/Battery Rechargeable</th>\n",
       "      <th>Product specific battery packs Secondary Spec/Battery Chemistry</th>\n",
       "      <th>Product specific battery packs Secondary Spec/Number of Cells</th>\n",
       "      <th>Product specific battery packs Secondary Spec/Maximum Battery Recharge Life Cycle</th>\n",
       "      <th>Product specific battery packs Secondary Spec/Rugged</th>\n",
       "      <th>Product specific battery packs Secondary Spec/Compatible to OEM Part Number</th>\n",
       "      <th>Product specific battery packs Secondary Spec/Compatibility</th>\n",
       "      <th>Product specific battery packs Secondary Spec/Post-consumer-waste%</th>\n",
       "      <th>Product specific battery packs Secondary Spec/Energy Star</th>\n",
       "      <th>Product specific battery packs Secondary Spec/Application or Usage#0</th>\n",
       "      <th>...</th>\n",
       "      <th>Scissors Secondary Spec/Shipping Depth/Display Value</th>\n",
       "      <th>Scissors Secondary Spec/Shipping Depth/Absolute Value</th>\n",
       "      <th>Scissors Secondary Spec/Shipping Depth/UOM</th>\n",
       "      <th>Scissors Secondary Spec/Shipping Weight _Approximate_/Display Value</th>\n",
       "      <th>Scissors Secondary Spec/Shipping Weight _Approximate_/Absolute Value</th>\n",
       "      <th>Scissors Secondary Spec/Shipping Weight _Approximate_/UOM</th>\n",
       "      <th>Scissors Secondary Spec/Recycled Content#0</th>\n",
       "      <th>Web cameras Secondary Spec/Color#1</th>\n",
       "      <th>Web cameras Secondary Spec/Device Supported#1</th>\n",
       "      <th>Web cameras Secondary Spec/Device Supported#2</th>\n",
       "    </tr>\n",
       "  </thead>\n",
       "  <tbody>\n",
       "  </tbody>\n",
       "</table>\n",
       "<p>0 rows × 2079 columns</p>\n",
       "</div>"
      ],
      "text/plain": [
       "Empty DataFrame\n",
       "Columns: [Product specific battery packs Secondary Spec/Battery Rechargeable, Product specific battery packs Secondary Spec/Battery Chemistry, Product specific battery packs Secondary Spec/Number of Cells, Product specific battery packs Secondary Spec/Maximum Battery Recharge Life Cycle, Product specific battery packs Secondary Spec/Rugged, Product specific battery packs Secondary Spec/Compatible to OEM Part Number, Product specific battery packs Secondary Spec/Compatibility, Product specific battery packs Secondary Spec/Post-consumer-waste%, Product specific battery packs Secondary Spec/Energy Star, Product specific battery packs Secondary Spec/Application or Usage#0, Product specific battery packs Secondary Spec/Battery Size#0, Product specific battery packs Secondary Spec/Battery Capacity#0/Display Value, Product specific battery packs Secondary Spec/Battery Capacity#0/Absolute Value, Product specific battery packs Secondary Spec/Battery Capacity#0/UOM, Product specific battery packs Secondary Spec/Battery Energy/Display Value, Product specific battery packs Secondary Spec/Battery Energy/Absolute Value, Product specific battery packs Secondary Spec/Battery Energy/UOM, Product specific battery packs Secondary Spec/Output Voltage#0/Display Value, Product specific battery packs Secondary Spec/Output Voltage#0/Absolute Value, Product specific battery packs Secondary Spec/Output Voltage#0/UOM, Product specific battery packs Secondary Spec/Maximum Battery Run Time/Display Value, Product specific battery packs Secondary Spec/Maximum Battery Run Time/Absolute Value, Product specific battery packs Secondary Spec/Maximum Battery Run Time/UOM, Product specific battery packs Secondary Spec/Maximum Battery Recharge Time/Display Value, Product specific battery packs Secondary Spec/Maximum Battery Recharge Time/Absolute Value, Product specific battery packs Secondary Spec/Maximum Battery Recharge Time/UOM, Product specific battery packs Secondary Spec/Height/Display Value, Product specific battery packs Secondary Spec/Height/Absolute Value, Product specific battery packs Secondary Spec/Height/UOM, Product specific battery packs Secondary Spec/Width/Display Value, Product specific battery packs Secondary Spec/Width/Absolute Value, Product specific battery packs Secondary Spec/Width/UOM, Product specific battery packs Secondary Spec/Depth/Display Value, Product specific battery packs Secondary Spec/Depth/Absolute Value, Product specific battery packs Secondary Spec/Depth/UOM, Product specific battery packs Secondary Spec/Weight _Approximate_#0/Display Value, Product specific battery packs Secondary Spec/Weight _Approximate_#0/Absolute Value, Product specific battery packs Secondary Spec/Weight _Approximate_#0/UOM, Random access memory RAM Secondary Spec/Memory Technology, Random access memory RAM Secondary Spec/Memory Standard, Random access memory RAM Secondary Spec/Memory Rank, Random access memory RAM Secondary Spec/Error Checking, Random access memory RAM Secondary Spec/CAS Latency, Random access memory RAM Secondary Spec/Rugged, Random access memory RAM Secondary Spec/Number of Pins, Random access memory RAM Secondary Spec/Form Factor, Random access memory RAM Secondary Spec/Compatibility, Random access memory RAM Secondary Spec/Energy Star, Random access memory RAM Secondary Spec/TCO Certified, Random access memory RAM Secondary Spec/Memory Size/Display Value, Random access memory RAM Secondary Spec/Memory Size/Absolute Value, Random access memory RAM Secondary Spec/Memory Size/UOM, Random access memory RAM Secondary Spec/Memory Voltage/Display Value, Random access memory RAM Secondary Spec/Memory Voltage/Absolute Value, Random access memory RAM Secondary Spec/Memory Voltage/UOM, Random access memory RAM Secondary Spec/Number of Modules#0, Random access memory RAM Secondary Spec/Memory Speed/Display Value, Random access memory RAM Secondary Spec/Memory Speed/Absolute Value, Random access memory RAM Secondary Spec/Memory Speed/UOM, Random access memory RAM Secondary Spec/Signal Processing#0, Random access memory RAM Secondary Spec/Device Supported#0, Random access memory RAM Secondary Spec/Thickness/Display Value, Random access memory RAM Secondary Spec/Thickness/Absolute Value, Random access memory RAM Secondary Spec/Thickness/UOM, Random access memory RAM Secondary Spec/Width/Display Value, Random access memory RAM Secondary Spec/Width/Absolute Value, Random access memory RAM Secondary Spec/Width/UOM, Random access memory RAM Secondary Spec/Length/Display Value, Random access memory RAM Secondary Spec/Length/Absolute Value, Random access memory RAM Secondary Spec/Length/UOM, Random access memory RAM Secondary Spec/Weight _Approximate_#0/Display Value, Random access memory RAM Secondary Spec/Weight _Approximate_#0/Absolute Value, Random access memory RAM Secondary Spec/Weight _Approximate_#0/UOM, Flash memory Secondary Spec/Speed Class Rating, Flash memory Secondary Spec/Video Speed Class, Flash memory Secondary Spec/Application Performance Class, Flash memory Secondary Spec/Near Field Communication, Flash memory Secondary Spec/Wireless LAN, Flash memory Secondary Spec/Energy Star, Flash memory Secondary Spec/TCO Certified, Flash memory Secondary Spec/Storage Capacity/Display Value, Flash memory Secondary Spec/Storage Capacity/Absolute Value, Flash memory Secondary Spec/Storage Capacity/UOM, Flash memory Secondary Spec/Memory Speed/Display Value, Flash memory Secondary Spec/Memory Speed/Absolute Value, Flash memory Secondary Spec/Memory Speed/UOM, Flash memory Secondary Spec/Maximum Read Speed/Display Value, Flash memory Secondary Spec/Maximum Read Speed/Absolute Value, Flash memory Secondary Spec/Maximum Read Speed/UOM, Flash memory Secondary Spec/Maximum Write Speed/Display Value, Flash memory Secondary Spec/Maximum Write Speed/Absolute Value, Flash memory Secondary Spec/Maximum Write Speed/UOM, Flash memory Secondary Spec/Data Transfer Rate/Display Value, Flash memory Secondary Spec/Data Transfer Rate/Absolute Value, Flash memory Secondary Spec/Data Transfer Rate/UOM, Flash memory Secondary Spec/Width/Display Value, Flash memory Secondary Spec/Width/Absolute Value, Flash memory Secondary Spec/Width/UOM, Flash memory Secondary Spec/Thickness/Display Value, Flash memory Secondary Spec/Thickness/Absolute Value, ...]\n",
       "Index: []\n",
       "\n",
       "[0 rows x 2079 columns]"
      ]
     },
     "execution_count": 50,
     "metadata": {},
     "output_type": "execute_result"
    }
   ],
   "source": [
    "b = b.dropna(how='any',axis=0)\n",
    "b.head()"
   ]
  },
  {
   "cell_type": "code",
   "execution_count": 51,
   "id": "728b1ab0-c48a-4798-bdaa-af8e17fcb6fa",
   "metadata": {},
   "outputs": [
    {
     "data": {
      "text/plain": [
       "Product specific battery packs Secondary Spec/Battery Rechargeable                   True\n",
       "Product specific battery packs Secondary Spec/Battery Chemistry                      True\n",
       "Product specific battery packs Secondary Spec/Number of Cells                        True\n",
       "Product specific battery packs Secondary Spec/Maximum Battery Recharge Life Cycle    True\n",
       "Product specific battery packs Secondary Spec/Rugged                                 True\n",
       "                                                                                     ... \n",
       "Scissors Secondary Spec/Shipping Weight _Approximate_/UOM                            True\n",
       "Scissors Secondary Spec/Recycled Content#0                                           True\n",
       "Web cameras Secondary Spec/Color#1                                                   True\n",
       "Web cameras Secondary Spec/Device Supported#1                                        True\n",
       "Web cameras Secondary Spec/Device Supported#2                                        True\n",
       "Length: 2079, dtype: bool"
      ]
     },
     "execution_count": 51,
     "metadata": {},
     "output_type": "execute_result"
    }
   ],
   "source": [
    "b.notnull().all()"
   ]
  },
  {
   "cell_type": "markdown",
   "id": "8cbac651-23e6-48d4-bd9b-c4d370da43f8",
   "metadata": {},
   "source": [
    "## Finding out the values for all the secondary specs columns having not null entries"
   ]
  },
  {
   "cell_type": "code",
   "execution_count": 52,
   "id": "81beaf2b-b46e-4f3e-9d8b-824cf7e1b7f7",
   "metadata": {},
   "outputs": [
    {
     "data": {
      "text/plain": [
       "array([], dtype=float64)"
      ]
     },
     "execution_count": 52,
     "metadata": {},
     "output_type": "execute_result"
    }
   ],
   "source": [
    "b1 = b['Product specific battery packs Secondary Spec/Battery Rechargeable'].unique()\n",
    "b1"
   ]
  },
  {
   "cell_type": "code",
   "execution_count": 53,
   "id": "2860b724-deb6-4798-b0b6-d04bf704b233",
   "metadata": {},
   "outputs": [
    {
     "data": {
      "text/plain": [
       "array([], dtype=float64)"
      ]
     },
     "execution_count": 53,
     "metadata": {},
     "output_type": "execute_result"
    }
   ],
   "source": [
    "b2 = b['Product specific battery packs Secondary Spec/Battery Chemistry'].unique()\n",
    "b2"
   ]
  },
  {
   "cell_type": "code",
   "execution_count": 54,
   "id": "282ad9c2-4199-430e-9c19-448b456e2a5a",
   "metadata": {},
   "outputs": [
    {
     "data": {
      "text/plain": [
       "array([], dtype=float64)"
      ]
     },
     "execution_count": 54,
     "metadata": {},
     "output_type": "execute_result"
    }
   ],
   "source": [
    "b3 = b['Product specific battery packs Secondary Spec/Number of Cells'].unique()\n",
    "b3"
   ]
  },
  {
   "cell_type": "code",
   "execution_count": 55,
   "id": "9bdb6af3-1c9f-471c-b998-33aeec89f719",
   "metadata": {},
   "outputs": [
    {
     "data": {
      "text/plain": [
       "array([], dtype=float64)"
      ]
     },
     "execution_count": 55,
     "metadata": {},
     "output_type": "execute_result"
    }
   ],
   "source": [
    "b4 = b['Product specific battery packs Secondary Spec/Maximum Battery Recharge Life Cycle'].unique()\n",
    "b4"
   ]
  },
  {
   "cell_type": "code",
   "execution_count": 56,
   "id": "0b3d5ada-ad08-4a68-97a3-179cb3645334",
   "metadata": {},
   "outputs": [
    {
     "data": {
      "text/plain": [
       "array([], dtype=float64)"
      ]
     },
     "execution_count": 56,
     "metadata": {},
     "output_type": "execute_result"
    }
   ],
   "source": [
    "b5 = b['Product specific battery packs Secondary Spec/Rugged'].unique()\n",
    "b5"
   ]
  },
  {
   "cell_type": "code",
   "execution_count": 57,
   "id": "4a150c3e-bb6d-4fc3-a5f7-685115706d44",
   "metadata": {},
   "outputs": [
    {
     "data": {
      "text/plain": [
       "array([], dtype=float64)"
      ]
     },
     "execution_count": 57,
     "metadata": {},
     "output_type": "execute_result"
    }
   ],
   "source": [
    "b6 = b['Scissors Secondary Spec/Shipping Weight _Approximate_/UOM'].unique()\n",
    "b6"
   ]
  },
  {
   "cell_type": "code",
   "execution_count": 58,
   "id": "80b84d81-df1e-42e7-9fa4-f8c68bd27872",
   "metadata": {},
   "outputs": [
    {
     "data": {
      "text/plain": [
       "array([], dtype=float64)"
      ]
     },
     "execution_count": 58,
     "metadata": {},
     "output_type": "execute_result"
    }
   ],
   "source": [
    "b7 = b['Scissors Secondary Spec/Recycled Content#0'].unique()\n",
    "b7"
   ]
  },
  {
   "cell_type": "code",
   "execution_count": 59,
   "id": "58fcc2a9-14e9-4411-ab82-009432daec7b",
   "metadata": {},
   "outputs": [
    {
     "data": {
      "text/plain": [
       "array([], dtype=object)"
      ]
     },
     "execution_count": 59,
     "metadata": {},
     "output_type": "execute_result"
    }
   ],
   "source": [
    "b8 = b['Web cameras Secondary Spec/Color#1'].unique()\n",
    "b8"
   ]
  },
  {
   "cell_type": "code",
   "execution_count": 60,
   "id": "b2b901ea-c84d-4b52-9225-9bd9440e9c9d",
   "metadata": {},
   "outputs": [
    {
     "data": {
      "text/plain": [
       "array([], dtype=object)"
      ]
     },
     "execution_count": 60,
     "metadata": {},
     "output_type": "execute_result"
    }
   ],
   "source": [
    "b9 = b['Web cameras Secondary Spec/Device Supported#1'].unique()\n",
    "b9"
   ]
  },
  {
   "cell_type": "code",
   "execution_count": 61,
   "id": "2add3ab6-8386-4a34-8f7d-0665f63a4527",
   "metadata": {},
   "outputs": [
    {
     "data": {
      "text/plain": [
       "array([], dtype=object)"
      ]
     },
     "execution_count": 61,
     "metadata": {},
     "output_type": "execute_result"
    }
   ],
   "source": [
    "b10 = b['Web cameras Secondary Spec/Device Supported#2'].unique()\n",
    "b10"
   ]
  },
  {
   "cell_type": "code",
   "execution_count": null,
   "id": "9b5c725a-493e-46af-91fa-a186100d0066",
   "metadata": {
    "id": "9858e85e-b66f-4eea-bb69-697bc08c2cc4"
   },
   "outputs": [],
   "source": [
    "## 3) 43211708"
   ]
  },
  {
   "cell_type": "code",
   "execution_count": 62,
   "id": "4e0f12da-bb55-43dd-99ae-c03bc8c281da",
   "metadata": {
    "id": "4e0f12da-bb55-43dd-99ae-c03bc8c281da"
   },
   "outputs": [],
   "source": [
    "# c = df_POOIM_Export[df_POOIM_Export['POOIM Primary Spec/Category'] == 43211708]\n",
    "# # print(c.columns)\n",
    "# # Filter only the secondary spec columns from the POOIM catalog file\n",
    "# Secondary_spec_col=[]\n",
    "# for col in c.columns:\n",
    "#     if 'Secondary Spec' in col:\n",
    "#         Secondary_spec_col.append(col)\n",
    "#         # display(c)\n",
    "# # print(\"All the secondary Spec columns: \", Secondary_spec_col)\n",
    "\n",
    "# c = c.filter(regex='Secondary*')\n",
    "# # print(c.columns)"
   ]
  },
  {
   "cell_type": "code",
   "execution_count": 63,
   "id": "0b01cfe8-b54c-4de8-8077-f5580c60c76e",
   "metadata": {
    "id": "0b01cfe8-b54c-4de8-8077-f5580c60c76e"
   },
   "outputs": [],
   "source": [
    "# print(c.T.apply(lambda x: x.nunique(dropna=False), axis=1))"
   ]
  },
  {
   "cell_type": "code",
   "execution_count": 64,
   "id": "ea9a2cd7-bab8-4a1c-b158-2d125bbed242",
   "metadata": {
    "id": "ea9a2cd7-bab8-4a1c-b158-2d125bbed242"
   },
   "outputs": [],
   "source": [
    "# c['Product specific battery packs Secondary Spec/Rugged'].unique()"
   ]
  },
  {
   "cell_type": "code",
   "execution_count": 65,
   "id": "32e0d50a-5478-446b-9cf8-ce9bd015617c",
   "metadata": {
    "id": "32e0d50a-5478-446b-9cf8-ce9bd015617c"
   },
   "outputs": [],
   "source": [
    "# c.notnull().sum().sum()"
   ]
  },
  {
   "cell_type": "code",
   "execution_count": 66,
   "id": "deb3444d-2073-43e5-aced-c549086d1a2d",
   "metadata": {
    "id": "deb3444d-2073-43e5-aced-c549086d1a2d"
   },
   "outputs": [],
   "source": [
    "# c.notnull()"
   ]
  },
  {
   "cell_type": "code",
   "execution_count": 67,
   "id": "af07973e-0d6f-44fb-bd0c-be9ece9b8909",
   "metadata": {
    "id": "af07973e-0d6f-44fb-bd0c-be9ece9b8909"
   },
   "outputs": [],
   "source": [
    "# c.T.apply(lambda x: x.nunique(dropna=False), axis=1)"
   ]
  },
  {
   "cell_type": "code",
   "execution_count": 68,
   "id": "0d93c98a-eb76-44b0-a9d9-149b713b8fee",
   "metadata": {
    "id": "0d93c98a-eb76-44b0-a9d9-149b713b8fee"
   },
   "outputs": [],
   "source": [
    "# c = c.loc[c['Product specific battery packs Secondary Spec/Rugged'].notnull()]\n",
    "# c"
   ]
  },
  {
   "cell_type": "code",
   "execution_count": null,
   "id": "67c98c52-3c1b-4f8b-aaf2-81b3a18dd470",
   "metadata": {
    "id": "831fb6ba-dbc4-4cf0-b0de-59403b1132b9"
   },
   "outputs": [],
   "source": [
    "## 4) 44103103"
   ]
  },
  {
   "cell_type": "code",
   "execution_count": 69,
   "id": "6005e9fe-a23e-4d22-9ae4-d9500b851a67",
   "metadata": {
    "id": "6005e9fe-a23e-4d22-9ae4-d9500b851a67"
   },
   "outputs": [],
   "source": [
    "# d = df_POOIM_Export[df_POOIM_Export['POOIM Primary Spec/Category'] == 44103103]\n",
    "# # print(d.columns)\n",
    "# # Filter only the secondary spec columns from the POOIM catalog file\n",
    "# Secondary_spec_col=[]\n",
    "# for col in d.columns:\n",
    "#     if 'Secondary Spec' in col:\n",
    "#         Secondary_spec_col.append(col)\n",
    "#         # display(d)\n",
    "# # print(\"All the secondary Spec columns: \", Secondary_spec_col)\n",
    "\n",
    "# d= d.filter(regex='Secondary*')\n",
    "# # print(d.columns)"
   ]
  },
  {
   "cell_type": "code",
   "execution_count": 70,
   "id": "960787d1-8d36-4cbc-bba4-c62cf5dd05b5",
   "metadata": {
    "id": "960787d1-8d36-4cbc-bba4-c62cf5dd05b5"
   },
   "outputs": [],
   "source": [
    "# print(d.T.apply(lambda x: x.nunique(dropna=False), axis=1))"
   ]
  },
  {
   "cell_type": "code",
   "execution_count": 71,
   "id": "710bfc58-8ad3-4901-9845-0ed18eb02522",
   "metadata": {
    "id": "710bfc58-8ad3-4901-9845-0ed18eb02522"
   },
   "outputs": [],
   "source": [
    "# d.notnull().sum().sum()"
   ]
  },
  {
   "cell_type": "code",
   "execution_count": 72,
   "id": "9aa1f91d-8710-4044-b218-650477559b53",
   "metadata": {
    "id": "9aa1f91d-8710-4044-b218-650477559b53"
   },
   "outputs": [],
   "source": [
    "# d.notnull()"
   ]
  },
  {
   "cell_type": "code",
   "execution_count": 73,
   "id": "4bde8628-4fef-41f2-94a5-5089bcadf562",
   "metadata": {
    "id": "4bde8628-4fef-41f2-94a5-5089bcadf562"
   },
   "outputs": [],
   "source": [
    "# d[\"Product specific battery packs Secondary Spec/Energy Star\"].nunique()"
   ]
  },
  {
   "cell_type": "code",
   "execution_count": null,
   "id": "d22b7f4d-aeb3-4437-a50a-85dd66ba662c",
   "metadata": {
    "id": "e8491897-4af1-4790-afca-1e0ab0ef1bc6"
   },
   "outputs": [],
   "source": [
    "## 5) 14111514     "
   ]
  },
  {
   "cell_type": "code",
   "execution_count": 74,
   "id": "fcc403f3-b28b-49cc-b310-628686fc29e7",
   "metadata": {
    "id": "fcc403f3-b28b-49cc-b310-628686fc29e7"
   },
   "outputs": [],
   "source": [
    "# e = df_POOIM_Export[df_POOIM_Export['POOIM Primary Spec/Category'] == 14111514]\n",
    "# # print(e.columns)\n",
    "# # Filter only the secondary spec columns from the POOIM catalog file\n",
    "# Secondary_spec_col=[]\n",
    "# for col in e.columns:\n",
    "#     if 'Secondary Spec' in col:\n",
    "#         Secondary_spec_col.append(col)\n",
    "#         # display(e)\n",
    "# # print(\"All the secondary Spec columns: \", Secondary_spec_col)\n",
    "\n",
    "# e = e.filter(regex='Secondary*')\n",
    "# # print(e.columns)"
   ]
  },
  {
   "cell_type": "code",
   "execution_count": 53,
   "id": "34ffc8d4-b566-4c1d-8555-d1138f6a8815",
   "metadata": {
    "id": "34ffc8d4-b566-4c1d-8555-d1138f6a8815"
   },
   "outputs": [],
   "source": [
    "# ## Find the unique values for every secondary specs\n",
    "# print(e.T.apply(lambda x: x.nunique(dropna=False), axis=1))"
   ]
  },
  {
   "cell_type": "code",
   "execution_count": 54,
   "id": "31a3ac6c-2ca6-40fd-bf68-8dcd22dbb3ad",
   "metadata": {
    "id": "31a3ac6c-2ca6-40fd-bf68-8dcd22dbb3ad"
   },
   "outputs": [],
   "source": [
    "# e.notnull().sum().sum()"
   ]
  },
  {
   "cell_type": "code",
   "execution_count": 55,
   "id": "dab50809-0813-47a7-8a35-87635e5d325b",
   "metadata": {
    "id": "dab50809-0813-47a7-8a35-87635e5d325b"
   },
   "outputs": [],
   "source": [
    "# e.notnull()"
   ]
  },
  {
   "cell_type": "code",
   "execution_count": 56,
   "id": "56edf9ab-9da1-468c-b637-d4f20aa6dcce",
   "metadata": {
    "id": "56edf9ab-9da1-468c-b637-d4f20aa6dcce"
   },
   "outputs": [],
   "source": [
    "# e.T.apply(lambda x: x.nunique(dropna=False), axis=1)"
   ]
  },
  {
   "cell_type": "code",
   "execution_count": 57,
   "id": "883849e8-0892-4281-b8bc-c7f15e7d9581",
   "metadata": {
    "id": "883849e8-0892-4281-b8bc-c7f15e7d9581"
   },
   "outputs": [],
   "source": [
    "# e[\"Web cameras Secondary Spec/Device Supported#2\"].nunique()"
   ]
  },
  {
   "cell_type": "markdown",
   "id": "97aff96f-18c5-414a-8d71-2fe04566e939",
   "metadata": {
    "id": "97aff96f-18c5-414a-8d71-2fe04566e939"
   },
   "source": [
    "## 6) 44103105     "
   ]
  },
  {
   "cell_type": "code",
   "execution_count": 58,
   "id": "0ba28865-e01f-4464-a4db-b2ef213ebe77",
   "metadata": {
    "id": "0ba28865-e01f-4464-a4db-b2ef213ebe77"
   },
   "outputs": [],
   "source": [
    "# f = df_POOIM_Export[df_POOIM_Export['POOIM Primary Spec/Category'] == 44103105]\n",
    "# # print(f.columns)\n",
    "# # Filter only the secondary spec columns from the POOIM catalog file\n",
    "# Secondary_spec_col=[]\n",
    "# for col in f.columns:\n",
    "#     if 'Secondary Spec' in col:\n",
    "#         Secondary_spec_col.append(col)\n",
    "#         # display(f)\n",
    "# # print(\"All the secondary Spec columns: \", Secondary_spec_col)\n",
    "\n",
    "# f = f.filter(regex='Secondary*')\n",
    "# # print(f.columns)"
   ]
  },
  {
   "cell_type": "code",
   "execution_count": 59,
   "id": "206ba40d-d16f-4af0-af1f-f7dfa1052fdb",
   "metadata": {
    "id": "206ba40d-d16f-4af0-af1f-f7dfa1052fdb"
   },
   "outputs": [],
   "source": [
    "# ## Find the unique values for every secondary specs\n",
    "# print(f.T.apply(lambda x: x.nunique(dropna=False), axis=1))"
   ]
  },
  {
   "cell_type": "code",
   "execution_count": 60,
   "id": "6ea75e01-de17-4f9b-a4b0-94801b5b0e51",
   "metadata": {
    "id": "6ea75e01-de17-4f9b-a4b0-94801b5b0e51"
   },
   "outputs": [],
   "source": [
    "# f.notnull().sum().sum()"
   ]
  },
  {
   "cell_type": "code",
   "execution_count": 61,
   "id": "72be0271-9ea7-4201-b781-d070e3859d81",
   "metadata": {
    "id": "72be0271-9ea7-4201-b781-d070e3859d81"
   },
   "outputs": [],
   "source": [
    "# f.notnull()"
   ]
  },
  {
   "cell_type": "code",
   "execution_count": 62,
   "id": "94a1f971-ecc2-4683-9e1b-35ab4e3f7e73",
   "metadata": {
    "id": "94a1f971-ecc2-4683-9e1b-35ab4e3f7e73"
   },
   "outputs": [],
   "source": [
    "# f.T.apply(lambda x: x.nunique(dropna=False), axis=1)"
   ]
  },
  {
   "cell_type": "code",
   "execution_count": 63,
   "id": "6466a449-fb37-4bf7-a06f-2963f3ecefb2",
   "metadata": {
    "id": "6466a449-fb37-4bf7-a06f-2963f3ecefb2"
   },
   "outputs": [],
   "source": [
    "# f[\"Scissors Secondary Spec/Shipping Weight _Approximate_/UOM\"].nunique()"
   ]
  }
 ],
 "metadata": {
  "colab": {
   "provenance": []
  },
  "kernelspec": {
   "display_name": "Python 3 (ipykernel)",
   "language": "python",
   "name": "python3"
  },
  "language_info": {
   "codemirror_mode": {
    "name": "ipython",
    "version": 3
   },
   "file_extension": ".py",
   "mimetype": "text/x-python",
   "name": "python",
   "nbconvert_exporter": "python",
   "pygments_lexer": "ipython3",
   "version": "3.10.9"
  },
  "vscode": {
   "interpreter": {
    "hash": "0ee95f3f8538f51228b5be4ddc25150c5a6561241dd50a0140ebce457df70ece"
   }
  }
 },
 "nbformat": 4,
 "nbformat_minor": 5
}
