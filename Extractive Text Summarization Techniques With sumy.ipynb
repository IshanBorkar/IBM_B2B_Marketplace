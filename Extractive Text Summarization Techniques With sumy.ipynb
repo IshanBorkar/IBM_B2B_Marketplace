{
 "cells": [
  {
   "cell_type": "markdown",
   "id": "dd687e1b-c930-4767-84f9-90ee088f2c63",
   "metadata": {},
   "source": [
    "### 1) Import the libraries"
   ]
  },
  {
   "cell_type": "code",
   "execution_count": 3,
   "id": "ac0fcf98-88d1-4684-a517-ad7709e2ad9f",
   "metadata": {},
   "outputs": [
    {
     "name": "stdout",
     "output_type": "stream",
     "text": [
      "pip 22.3.1 from C:\\Users\\ishan_borker\\AppData\\Roaming\\Python\\Python37\\site-packages\\pip (python 3.7)\n",
      "\n"
     ]
    }
   ],
   "source": [
    "!python -m pip --version"
   ]
  },
  {
   "cell_type": "code",
   "execution_count": null,
   "id": "a4cb72d6-043f-48a8-81d9-ff1309bfd951",
   "metadata": {},
   "outputs": [],
   "source": [
    "!pip install sumy"
   ]
  },
  {
   "cell_type": "code",
   "execution_count": null,
   "id": "c98afc9d-110d-493c-816c-b84a0d9f1f5d",
   "metadata": {},
   "outputs": [],
   "source": [
    "#Plain text parsers since we are parsing through text\n",
    "from sumy.parsers.html import HtmlParser\n",
    "from sumy.parsers.plaintext import PlaintextParser\n",
    "\n",
    "#for tokenization\n",
    "from sumy.nlp.tokenizers import Tokenizer"
   ]
  },
  {
   "cell_type": "markdown",
   "id": "adeef7ac-f977-4f5b-adf8-97d0ad903c9f",
   "metadata": {
    "tags": []
   },
   "source": [
    "### 2) Load the text file"
   ]
  },
  {
   "cell_type": "code",
   "execution_count": null,
   "id": "4d2bddbb-a235-46a7-a06a-0636191edb16",
   "metadata": {},
   "outputs": [],
   "source": [
    "file = \"C:\\\\Users\\ishan_borker\\Downloads\\bbc-fulltext\\bbc\\business\\001.txt\"\n",
    "parser = PlaintextParser.from_file(file, Tokenizer(\"english\"))"
   ]
  },
  {
   "cell_type": "markdown",
   "id": "26eb6ebf-b0d0-4d00-bcf0-83ffa85881e6",
   "metadata": {},
   "source": [
    "### 3) Different summarizers\n",
    "#### 3.1) Lex Rank\n",
    "unsupervised approach to text summarization based on graph-based centrality scoring of sentences.\n",
    "The main idea is that sentences “recommend” other similar sentences to the reader. Thus, if one sentence is very similar to many others, it will likely be a sentence of great importance"
   ]
  },
  {
   "cell_type": "code",
   "execution_count": null,
   "id": "e0bd95c4-9e8e-47cb-87ef-f15919d21f9e",
   "metadata": {},
   "outputs": [],
   "source": [
    "!pip install lexrank"
   ]
  },
  {
   "cell_type": "code",
   "execution_count": null,
   "id": "e9d91855-8334-4275-a306-1a33d06b6d0e",
   "metadata": {},
   "outputs": [],
   "source": [
    "from sumy.summarizers.lex_rank import LexRankSummarizer \n",
    "summarizer = LexRankSummarizer()\n",
    "#Summarize the document with 2 sentences\n",
    "summary = summarizer(parser.document, 2) \n",
    "for sentence in summary:\n",
    "    print(sentence)"
   ]
  },
  {
   "cell_type": "markdown",
   "id": "5d156433-8c24-4f89-8879-d3b45e72f5cc",
   "metadata": {},
   "source": [
    "#### 3.2) Luhn\n",
    "Based on frequency of most important words"
   ]
  },
  {
   "cell_type": "code",
   "execution_count": null,
   "id": "3081f042-9245-4005-b628-592d996cfb7d",
   "metadata": {},
   "outputs": [],
   "source": [
    "from sumy.summarizers.luhn import LuhnSummarizer\n",
    "summarizer1 = LuhnSummarizer()\n",
    "summary_1 =summarizer1(parser.document,2)\n",
    "for sentence in summary_1:\n",
    "    print(sentence)"
   ]
  },
  {
   "cell_type": "markdown",
   "id": "2be3acbd-1136-4df5-bb2f-c5ede6b7f5cf",
   "metadata": {},
   "source": [
    "#### 3.3) LSA\n",
    "Based on term frequency techniques with singular value decomposition to summarize texts."
   ]
  },
  {
   "cell_type": "code",
   "execution_count": null,
   "id": "affd27aa-39fb-4e95-aeb4-0e271a25c3e4",
   "metadata": {},
   "outputs": [],
   "source": [
    "from sumy.summarizers.lsa import LsaSummarizer\n",
    "summarizer2 = LsaSummarizer()\n",
    "summary_2 =summarizer2(parser.document,2)\n",
    "for sentence in summary_2:\n",
    "    print(sentence)"
   ]
  },
  {
   "cell_type": "markdown",
   "id": "83e3d68a-30fc-45cf-9628-0b07cbd3f0f7",
   "metadata": {},
   "source": [
    "#### 3.4) Text Rank"
   ]
  },
  {
   "cell_type": "code",
   "execution_count": null,
   "id": "78a1f0b7-c080-4022-a223-8f84eb1de3a1",
   "metadata": {},
   "outputs": [],
   "source": [
    "from sumy.summarizers.text_rank import TextRankSummarizer\n",
    "summarizer3 = TextRankSummarizer()\n",
    "summary_3 =summarizer3(parser.document,2)\n",
    "for sentence in summary_3:\n",
    "    print(sentence)"
   ]
  }
 ],
 "metadata": {
  "kernelspec": {
   "display_name": "Python 3",
   "language": "python",
   "name": "python3"
  },
  "language_info": {
   "codemirror_mode": {
    "name": "ipython",
    "version": 3
   },
   "file_extension": ".py",
   "mimetype": "text/x-python",
   "name": "python",
   "nbconvert_exporter": "python",
   "pygments_lexer": "ipython3",
   "version": "3.7.0"
  }
 },
 "nbformat": 4,
 "nbformat_minor": 5
}
