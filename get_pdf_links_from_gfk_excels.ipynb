{
 "cells": [
  {
   "cell_type": "code",
   "execution_count": 1,
   "id": "7a902b51",
   "metadata": {},
   "outputs": [],
   "source": [
    "from os import listdir\n",
    "from os.path import isfile, join, splitext\n",
    "\n",
    "import pandas as pd"
   ]
  },
  {
   "cell_type": "code",
   "execution_count": 2,
   "id": "edaa82ba",
   "metadata": {},
   "outputs": [],
   "source": [
    "parent_folder = 'C:\\\\Users\\ishan_borker\\Desktop\\IBM_B2B_C_Onboarding\\Data\\GFK_Data'\n",
    "excel_files = [f for f in listdir(parent_folder) if isfile(join(parent_folder, f))]"
   ]
  },
  {
   "cell_type": "code",
   "execution_count": 3,
   "id": "a5a7b3f4",
   "metadata": {},
   "outputs": [
    {
     "data": {
      "text/plain": [
       "['GFKProducts_000_2022_11_09_17_16_22.xlsx',\n",
       " 'GFKProducts_001_2022_11_09_17_16_22.xlsx',\n",
       " 'GFKProducts_002_2022_11_09_17_16_22.xlsx',\n",
       " 'GFKProducts_003_2022_11_09_17_16_22.xlsx',\n",
       " 'GFKProducts_004_2022_11_09_17_16_22.xlsx',\n",
       " 'GFKProducts_005_2022_11_09_17_16_22.xlsx',\n",
       " 'GFKProducts_006_2022_11_09_17_16_22.xlsx',\n",
       " 'GFKProducts_007_2022_11_09_17_16_22.xlsx',\n",
       " 'GFKProducts_008_2022_11_09_17_16_22.xlsx',\n",
       " 'GFKProducts_009_2022_11_09_17_16_22.xlsx']"
      ]
     },
     "execution_count": 3,
     "metadata": {},
     "output_type": "execute_result"
    }
   ],
   "source": [
    "excel_files"
   ]
  },
  {
   "cell_type": "code",
   "execution_count": 58,
   "id": "7ed72584",
   "metadata": {},
   "outputs": [
    {
     "name": "stdout",
     "output_type": "stream",
     "text": [
      "GFKProducts_000_2022_11_09_17_16_22.xlsx (7, 15)\n",
      "GFKProducts_001_2022_11_09_17_16_22.xlsx (44, 15)\n",
      "GFKProducts_002_2022_11_09_17_16_22.xlsx (0, 15)\n",
      "GFKProducts_003_2022_11_09_17_16_22.xlsx (0, 15)\n",
      "GFKProducts_004_2022_11_09_17_16_22.xlsx (0, 15)\n",
      "GFKProducts_005_2022_11_09_17_16_22.xlsx (0, 15)\n",
      "GFKProducts_006_2022_11_09_17_16_22.xlsx (11, 15)\n",
      "GFKProducts_007_2022_11_09_17_16_22.xlsx (34, 15)\n",
      "GFKProducts_008_2022_11_09_17_16_22.xlsx (408, 15)\n",
      "GFKProducts_009_2022_11_09_17_16_22.xlsx (303, 15)\n",
      "Total :  (807, 15)\n"
     ]
    }
   ],
   "source": [
    "columns_with_links = ['User-Manual', 'Manufacturer-Brochure', 'Educational-Brochure', 'Assembly-Instructions', 'Energy-Guide', 'Additional-pdf1', 'Additional-pdf2', 'Additional-pdf3', 'Additional-pdf4', 'Additional-pdf5', 'Additional-pdf6', 'Additional-pdf7', 'Additional-pdf8', 'Additional-pdf9', 'Additional-pdf10']\n",
    "\n",
    "final_df = None\n",
    "\n",
    "for file in excel_files:\n",
    "    df = pd.read_excel(parent_folder + '\\\\' + file)\n",
    "    df = df.dropna(axis='index', subset=columns_with_links, how='all')[columns_with_links]\n",
    "    \n",
    "    print(file, df.shape)\n",
    "    if final_df is None:\n",
    "        final_df = df\n",
    "    else:\n",
    "        final_df = pd.concat([final_df, df], axis=0, ignore_index=True)\n",
    "\n",
    "print(\"Total : \",final_df.shape)"
   ]
  },
  {
   "cell_type": "code",
   "execution_count": 65,
   "id": "25321dda",
   "metadata": {},
   "outputs": [
    {
     "name": "stdout",
     "output_type": "stream",
     "text": [
      "For column User-Manual, (211, 2)\n",
      "For column Manufacturer-Brochure, (439, 2)\n",
      "For column Educational-Brochure, (4, 2)\n",
      "For column Assembly-Instructions, (8, 2)\n",
      "For column Energy-Guide, (0, 2)\n",
      "For column Additional-pdf1, (316, 2)\n",
      "For column Additional-pdf2, (260, 2)\n",
      "For column Additional-pdf3, (237, 2)\n",
      "For column Additional-pdf4, (228, 2)\n",
      "For column Additional-pdf5, (219, 2)\n",
      "For column Additional-pdf6, (43, 2)\n",
      "For column Additional-pdf7, (1, 2)\n",
      "For column Additional-pdf8, (1, 2)\n",
      "For column Additional-pdf9, (1, 2)\n",
      "For column Additional-pdf10, (0, 2)\n"
     ]
    }
   ],
   "source": [
    "result = None\n",
    "\n",
    "for col in columns_with_links:\n",
    "    df = pd.DataFrame(columns=['Type', 'Link'])\n",
    "    df['Link'] = final_df[col].dropna()\n",
    "    df['Type'] = str(col)\n",
    "    print(f'For column {col}, {df.shape}')\n",
    "    if result is None:\n",
    "        result = df\n",
    "    else:\n",
    "        result = pd.concat([result, df], axis=0, ignore_index=True)"
   ]
  },
  {
   "cell_type": "code",
   "execution_count": 60,
   "id": "c3ed3961",
   "metadata": {},
   "outputs": [],
   "source": [
    "result = result.drop_duplicates(subset=['Link'])"
   ]
  },
  {
   "cell_type": "code",
   "execution_count": 63,
   "id": "12421978",
   "metadata": {},
   "outputs": [],
   "source": [
    "result.to_excel(parent_folder + '\\\\' + 'GFK_Data_PDF_Links.xlsx', sheet_name='Links', index=False)"
   ]
  },
  {
   "cell_type": "code",
   "execution_count": 66,
   "id": "95a3f906",
   "metadata": {},
   "outputs": [
    {
     "data": {
      "text/html": [
       "<div>\n",
       "<style scoped>\n",
       "    .dataframe tbody tr th:only-of-type {\n",
       "        vertical-align: middle;\n",
       "    }\n",
       "\n",
       "    .dataframe tbody tr th {\n",
       "        vertical-align: top;\n",
       "    }\n",
       "\n",
       "    .dataframe thead th {\n",
       "        text-align: right;\n",
       "    }\n",
       "</style>\n",
       "<table border=\"1\" class=\"dataframe\">\n",
       "  <thead>\n",
       "    <tr style=\"text-align: right;\">\n",
       "      <th></th>\n",
       "      <th>Type</th>\n",
       "      <th>Link</th>\n",
       "    </tr>\n",
       "  </thead>\n",
       "  <tbody>\n",
       "    <tr>\n",
       "      <th>0</th>\n",
       "      <td>User-Manual</td>\n",
       "      <td>http://content.etilize.com/User-Manual/1010636...</td>\n",
       "    </tr>\n",
       "    <tr>\n",
       "      <th>1</th>\n",
       "      <td>User-Manual</td>\n",
       "      <td>http://content.etilize.com/User-Manual/1017528...</td>\n",
       "    </tr>\n",
       "    <tr>\n",
       "      <th>2</th>\n",
       "      <td>User-Manual</td>\n",
       "      <td>http://content.etilize.com/User-Manual/1025564...</td>\n",
       "    </tr>\n",
       "    <tr>\n",
       "      <th>3</th>\n",
       "      <td>User-Manual</td>\n",
       "      <td>http://content.etilize.com/User-Manual/1025564...</td>\n",
       "    </tr>\n",
       "    <tr>\n",
       "      <th>4</th>\n",
       "      <td>User-Manual</td>\n",
       "      <td>http://content.etilize.com/User-Manual/1069767...</td>\n",
       "    </tr>\n",
       "    <tr>\n",
       "      <th>...</th>\n",
       "      <td>...</td>\n",
       "      <td>...</td>\n",
       "    </tr>\n",
       "    <tr>\n",
       "      <th>1963</th>\n",
       "      <td>Additional-pdf6</td>\n",
       "      <td>http://content.etilize.com/Additional-pdf6/106...</td>\n",
       "    </tr>\n",
       "    <tr>\n",
       "      <th>1964</th>\n",
       "      <td>Additional-pdf6</td>\n",
       "      <td>http://content.etilize.com/Additional-pdf6/105...</td>\n",
       "    </tr>\n",
       "    <tr>\n",
       "      <th>1965</th>\n",
       "      <td>Additional-pdf7</td>\n",
       "      <td>http://content.etilize.com/Additional-pdf7/105...</td>\n",
       "    </tr>\n",
       "    <tr>\n",
       "      <th>1966</th>\n",
       "      <td>Additional-pdf8</td>\n",
       "      <td>http://content.etilize.com/Additional-pdf8/105...</td>\n",
       "    </tr>\n",
       "    <tr>\n",
       "      <th>1967</th>\n",
       "      <td>Additional-pdf9</td>\n",
       "      <td>http://content.etilize.com/Additional-pdf9/105...</td>\n",
       "    </tr>\n",
       "  </tbody>\n",
       "</table>\n",
       "<p>1968 rows × 2 columns</p>\n",
       "</div>"
      ],
      "text/plain": [
       "                 Type                                               Link\n",
       "0         User-Manual  http://content.etilize.com/User-Manual/1010636...\n",
       "1         User-Manual  http://content.etilize.com/User-Manual/1017528...\n",
       "2         User-Manual  http://content.etilize.com/User-Manual/1025564...\n",
       "3         User-Manual  http://content.etilize.com/User-Manual/1025564...\n",
       "4         User-Manual  http://content.etilize.com/User-Manual/1069767...\n",
       "...               ...                                                ...\n",
       "1963  Additional-pdf6  http://content.etilize.com/Additional-pdf6/106...\n",
       "1964  Additional-pdf6  http://content.etilize.com/Additional-pdf6/105...\n",
       "1965  Additional-pdf7  http://content.etilize.com/Additional-pdf7/105...\n",
       "1966  Additional-pdf8  http://content.etilize.com/Additional-pdf8/105...\n",
       "1967  Additional-pdf9  http://content.etilize.com/Additional-pdf9/105...\n",
       "\n",
       "[1968 rows x 2 columns]"
      ]
     },
     "execution_count": 66,
     "metadata": {},
     "output_type": "execute_result"
    }
   ],
   "source": [
    "result"
   ]
  },
  {
   "cell_type": "code",
   "execution_count": null,
   "id": "bf66a6cc",
   "metadata": {},
   "outputs": [],
   "source": []
  },
  {
   "cell_type": "code",
   "execution_count": null,
   "id": "5198e348",
   "metadata": {},
   "outputs": [],
   "source": []
  },
  {
   "cell_type": "code",
   "execution_count": null,
   "id": "4c817f9d",
   "metadata": {},
   "outputs": [],
   "source": []
  },
  {
   "cell_type": "code",
   "execution_count": null,
   "id": "0a05978d",
   "metadata": {},
   "outputs": [],
   "source": []
  }
 ],
 "metadata": {
  "kernelspec": {
   "display_name": "Python 3",
   "language": "python",
   "name": "python3"
  },
  "language_info": {
   "codemirror_mode": {
    "name": "ipython",
    "version": 3
   },
   "file_extension": ".py",
   "mimetype": "text/x-python",
   "name": "python",
   "nbconvert_exporter": "python",
   "pygments_lexer": "ipython3",
   "version": "3.7.0"
  }
 },
 "nbformat": 4,
 "nbformat_minor": 5
}
